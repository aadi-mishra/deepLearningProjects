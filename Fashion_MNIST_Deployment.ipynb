{
  "nbformat": 4,
  "nbformat_minor": 0,
  "metadata": {
    "colab": {
      "name": "Fashion_MNIST_Deployment.ipynb",
      "provenance": [],
      "collapsed_sections": [],
      "authorship_tag": "ABX9TyOWZsNCqwghxoLU7cFm6v7O",
      "include_colab_link": true
    },
    "kernelspec": {
      "name": "python3",
      "display_name": "Python 3"
    },
    "language_info": {
      "name": "python"
    }
  },
  "cells": [
    {
      "cell_type": "markdown",
      "metadata": {
        "id": "view-in-github",
        "colab_type": "text"
      },
      "source": [
        "<a href=\"https://colab.research.google.com/github/aadi-mishra/Deep-Learning-Projects-Keras/blob/main/Fashion_MNIST_Deployment.ipynb\" target=\"_parent\"><img src=\"https://colab.research.google.com/assets/colab-badge.svg\" alt=\"Open In Colab\"/></a>"
      ]
    },
    {
      "cell_type": "markdown",
      "metadata": {
        "id": "H4_IYVk6pEU4"
      },
      "source": [
        "## Local Deployment Steps \n",
        "* We save our trained model\n",
        "* We install TensorFlow ModelServer. ModelServer provides the server that a client program can use to access our trained model.\n",
        "* We the launch our TF ModelServer providing a specific end-point for out trained model.\n",
        "* Lastly, we create code that will call these server end-point and pass an image. The image will be classified by our model and the predicted class returned to the client."
      ]
    },
    {
      "cell_type": "code",
      "metadata": {
        "id": "u7o1nYY8otZo"
      },
      "source": [
        "# Install Tensorflow ModelServer \n",
        "\n"
      ],
      "execution_count": null,
      "outputs": []
    },
    {
      "cell_type": "code",
      "metadata": {
        "id": "9C5lXjF3oH3X"
      },
      "source": [
        "# Import Libraries\n",
        "from keras.datasets import fashion_mnist\n",
        "from keras import models\n",
        "from keras import layers\n",
        "from keras.utils import to_categorical\n",
        "import numpy as np\n",
        "import pandas as pd\n",
        "import matplotlib.pyplot as plt\n",
        "import tensorflow as tf\n",
        "\n",
        "\n",
        "import tempfile\n",
        "import os\n",
        "\n",
        "\n"
      ],
      "execution_count": null,
      "outputs": []
    },
    {
      "cell_type": "code",
      "metadata": {
        "id": "v0hMY7lXuV02"
      },
      "source": [
        "# Define class names to display\n",
        "class_names = ['T-shirt/top', 'Trouser', 'Pullover', 'Dress', 'Coat', 'Sandal', 'Shirt', 'Sneaker', 'Bag', 'Ankle boot']"
      ],
      "execution_count": null,
      "outputs": []
    },
    {
      "cell_type": "markdown",
      "metadata": {
        "id": "ECQM2XBts2eP"
      },
      "source": [
        "## Our ML workflow\n",
        "* Get data --Load Fashion MNIST data\n",
        "* Prepare Data -- Pre-process data\n",
        "* Create Model -- Define network structure \n",
        "* Define loss measurement -- use sparse categorical cross-entropy\n",
        "* Train model to minimize loss -- Use optimizer with backprop to update model's weights to minimize loss \n",
        "* Evaluate training performance -- Measure loss on training data \n",
        "* Evaluate testing performance -- Measure loss on testing data"
      ]
    },
    {
      "cell_type": "code",
      "metadata": {
        "id": "M_1htpDdo-oY"
      },
      "source": [
        "# Load the data\n",
        "(train_images, train_labels), (test_images, test_labels) = fashion_mnist.load_data()\n"
      ],
      "execution_count": null,
      "outputs": []
    },
    {
      "cell_type": "code",
      "metadata": {
        "colab": {
          "base_uri": "https://localhost:8080/"
        },
        "id": "AKbdzSRDvIKp",
        "outputId": "6f48fec2-c872-464f-d782-6d344a715538"
      },
      "source": [
        "# Inspecting our data \n",
        "print(\"Training dataset : \", train_images.shape, train_labels.shape)\n",
        "print(\"Testing dataset : \", test_images.shape, test_labels.shape)\n",
        "print(train_labels[100])"
      ],
      "execution_count": null,
      "outputs": [
        {
          "output_type": "stream",
          "text": [
            "Training dataset :  (60000, 28, 28) (60000,)\n",
            "Testing dataset :  (10000, 28, 28) (10000,)\n",
            "8\n"
          ],
          "name": "stdout"
        }
      ]
    },
    {
      "cell_type": "code",
      "metadata": {
        "id": "bltU9SDcvpn2"
      },
      "source": [
        "# Visualizing an image and its associated label\n",
        "def show_training_image(index):\n",
        "  img_label = str(train_labels[index]) + ' (' + class_names[train_labels[index]] + ')'\n",
        "  plt.figure()\n",
        "  plt.title('Image Label ' + img_label)\n",
        "  plt.imshow(train_images[index], cmap='gray')\n",
        "  plt.colorbar()\n",
        "  plt.show()\n"
      ],
      "execution_count": null,
      "outputs": []
    },
    {
      "cell_type": "code",
      "metadata": {
        "colab": {
          "base_uri": "https://localhost:8080/",
          "height": 281
        },
        "id": "LiXPboNOwr0c",
        "outputId": "badbffa3-7456-4f13-cb9a-dc11c4eb621a"
      },
      "source": [
        "img_index = 10\n",
        "show_training_image(img_index)"
      ],
      "execution_count": null,
      "outputs": [
        {
          "output_type": "display_data",
          "data": {
            "image/png": "[encoded data removed]",
            "text/plain": [
              "<Figure size 432x288 with 2 Axes>"
            ]
          },
          "metadata": {
            "tags": [],
            "needs_background": "light"
          }
        }
      ]
    },
    {
      "cell_type": "markdown",
      "metadata": {
        "id": "zQ8gecTcyBdm"
      },
      "source": [
        "### Prepare Data"
      ]
    },
    {
      "cell_type": "code",
      "metadata": {
        "id": "tKR2lBH2wwX0"
      },
      "source": [
        "# Normalizing our data\n",
        "train_images = train_images.reshape((60000, 28, 28, 1))\n",
        "train_images = train_images / 255.0\n",
        "\n",
        "test_images = test_images.reshape((10000, 28, 28, 1))\n",
        "test_images = test_images / 255.0\n",
        "\n",
        "\n",
        "train_labels = to_categorical(train_labels)\n",
        "test_labels = to_categorical(test_labels)\n"
      ],
      "execution_count": null,
      "outputs": []
    },
    {
      "cell_type": "markdown",
      "metadata": {
        "id": "-tRFsDPGyv5J"
      },
      "source": [
        "### Creating Model\n",
        "\n",
        " "
      ]
    },
    {
      "cell_type": "code",
      "metadata": {
        "id": "7XltYOL2yiHc"
      },
      "source": [
        "model = models.Sequential()\n",
        "model.add(layers.Conv2D(32, (3, 3), activation='relu', input_shape=(28, 28, 1)))\n",
        "model.add(layers.MaxPooling2D((2, 2)))\n",
        "model.add(layers.Conv2D(64, (3, 3), activation='relu'))\n",
        "model.add(layers.MaxPooling2D((2, 2)))\n",
        "model.add(layers.Conv2D(64, (3, 3), activation='relu'))\n",
        "model.add(layers.Flatten())\n",
        "model.add(layers.Dense(64, activation='relu'))\n",
        "model.add(layers.Dense(10, activation='softmax'))"
      ],
      "execution_count": null,
      "outputs": []
    },
    {
      "cell_type": "code",
      "metadata": {
        "colab": {
          "base_uri": "https://localhost:8080/"
        },
        "id": "LZoS32hYy-xS",
        "outputId": "25e038f6-ccb0-4278-f37d-654dba04d4a5"
      },
      "source": [
        "# Visualising our network \n",
        "model.summary()"
      ],
      "execution_count": null,
      "outputs": [
        {
          "output_type": "stream",
          "text": [
            "Model: \"sequential_3\"\n",
            "_________________________________________________________________\n",
            "Layer (type)                 Output Shape              Param #   \n",
            "=================================================================\n",
            "conv2d_9 (Conv2D)            (None, 26, 26, 32)        320       \n",
            "_________________________________________________________________\n",
            "max_pooling2d_6 (MaxPooling2 (None, 13, 13, 32)        0         \n",
            "_________________________________________________________________\n",
            "conv2d_10 (Conv2D)           (None, 11, 11, 64)        18496     \n",
            "_________________________________________________________________\n",
            "max_pooling2d_7 (MaxPooling2 (None, 5, 5, 64)          0         \n",
            "_________________________________________________________________\n",
            "conv2d_11 (Conv2D)           (None, 3, 3, 64)          36928     \n",
            "_________________________________________________________________\n",
            "flatten_2 (Flatten)          (None, 576)               0         \n",
            "_________________________________________________________________\n",
            "dense_4 (Dense)              (None, 64)                36928     \n",
            "_________________________________________________________________\n",
            "dense_5 (Dense)              (None, 10)                650       \n",
            "=================================================================\n",
            "Total params: 93,322\n",
            "Trainable params: 93,322\n",
            "Non-trainable params: 0\n",
            "_________________________________________________________________\n"
          ],
          "name": "stdout"
        }
      ]
    },
    {
      "cell_type": "code",
      "metadata": {
        "id": "bMbKyQmszKis"
      },
      "source": [
        "# Compiling the model \n",
        "train_hist = model.compile(optimizer='rmsprop', loss= 'categorical_crossentropy', metrics=['accuracy'])"
      ],
      "execution_count": null,
      "outputs": []
    },
    {
      "cell_type": "code",
      "metadata": {
        "colab": {
          "base_uri": "https://localhost:8080/"
        },
        "id": "7SJi9xJt0Fh-",
        "outputId": "16b7cfa7-7772-4090-da2e-db54abf80341"
      },
      "source": [
        "# Traiining the model\n",
        "train_hist = model.fit(train_images, train_labels, epochs=9, batch_size = 128)"
      ],
      "execution_count": null,
      "outputs": [
        {
          "output_type": "stream",
          "text": [
            "Epoch 1/9\n",
            "469/469 [==============================] - 47s 99ms/step - loss: 0.1084 - accuracy: 0.9597\n",
            "Epoch 2/9\n",
            "469/469 [==============================] - 46s 99ms/step - loss: 0.0995 - accuracy: 0.9633\n",
            "Epoch 3/9\n",
            "469/469 [==============================] - 46s 99ms/step - loss: 0.0925 - accuracy: 0.9657\n",
            "Epoch 4/9\n",
            "469/469 [==============================] - 46s 99ms/step - loss: 0.0857 - accuracy: 0.9683\n",
            "Epoch 5/9\n",
            "469/469 [==============================] - 47s 100ms/step - loss: 0.0791 - accuracy: 0.9711\n",
            "Epoch 6/9\n",
            "469/469 [==============================] - 46s 98ms/step - loss: 0.0744 - accuracy: 0.9727\n",
            "Epoch 7/9\n",
            "469/469 [==============================] - 47s 99ms/step - loss: 0.0683 - accuracy: 0.9743\n",
            "Epoch 8/9\n",
            "469/469 [==============================] - 47s 99ms/step - loss: 0.0636 - accuracy: 0.9770\n",
            "Epoch 9/9\n",
            "469/469 [==============================] - 47s 100ms/step - loss: 0.0605 - accuracy: 0.9773\n"
          ],
          "name": "stdout"
        }
      ]
    },
    {
      "cell_type": "code",
      "metadata": {
        "id": "Z9PWWbfA0P5y"
      },
      "source": [
        "def plot_acc(hist):\n",
        "  # plot the accuracy\n",
        "  plt.title('Accuracy History')\n",
        "  plt.plot(hist.history['accuracy'])\n",
        "  plt.ylabel('Accuracy')\n",
        "  plt.xlabel('epoch')\n",
        "  plt.show()\n",
        "  \n",
        "def plot_loss(hist):\n",
        "  # plot the loss\n",
        "  plt.title('Loss History')\n",
        "  plt.plot(hist.history['loss'])\n",
        "  plt.ylabel('loss')\n",
        "  plt.xlabel('epoch')\n",
        "  plt.show()"
      ],
      "execution_count": null,
      "outputs": []
    },
    {
      "cell_type": "code",
      "metadata": {
        "colab": {
          "base_uri": "https://localhost:8080/",
          "height": 573
        },
        "id": "6lQ2Fz-m2HBm",
        "outputId": "ded6d0bc-b58e-4a82-e4fc-c5f8137c5604"
      },
      "source": [
        "plot_loss(train_hist)\n",
        "plot_acc(train_hist)"
      ],
      "execution_count": null,
      "outputs": [
        {
          "output_type": "display_data",
          "data": {
            "image/png": "[encoded data removed]",
            "text/plain": [
              "<Figure size 432x288 with 1 Axes>"
            ]
          },
          "metadata": {
            "tags": [],
            "needs_background": "light"
          }
        },
        {
          "output_type": "display_data",
          "data": {
            "image/png": "[encoded data removed]",
            "text/plain": [
              "<Figure size 432x288 with 1 Axes>"
            ]
          },
          "metadata": {
            "tags": [],
            "needs_background": "light"
          }
        }
      ]
    },
    {
      "cell_type": "code",
      "metadata": {
        "colab": {
          "base_uri": "https://localhost:8080/"
        },
        "id": "ZAekJ15F2Hrd",
        "outputId": "2ec61170-7859-4a49-eafc-d098886f74c9"
      },
      "source": [
        "# get the tempfile location for this Colab session\n",
        "MODEL_DIR = tempfile.gettempdir()\n",
        "version = 1   # NOTE: Adjust if you don't want to replace a version of your model\n",
        "export_path = os.path.join(MODEL_DIR, str(version))  # the final path includes the version\n",
        "print('Saving model to : {}\\n'.format(export_path))\n",
        "\n",
        "# if path already exists delete everything at the location\n",
        "if os.path.isdir(export_path):\n",
        "  print('\\nPreviously saved model found, deleting it\\n')\n",
        "  !rm -r {export_path}\n",
        "\n",
        "# Save the model  \n",
        "tf.saved_model.save(model, export_path)\n",
        "\n",
        "# Print save complete message\n",
        "print('Model saved')\n"
      ],
      "execution_count": null,
      "outputs": [
        {
          "output_type": "stream",
          "text": [
            "Saving model to : /tmp/1\n",
            "\n",
            "INFO:tensorflow:Assets written to: /tmp/1/assets\n",
            "Model saved\n"
          ],
          "name": "stdout"
        }
      ]
    },
    {
      "cell_type": "code",
      "metadata": {
        "colab": {
          "base_uri": "https://localhost:8080/"
        },
        "id": "ZHNnHewj8AG0",
        "outputId": "7c030101-9899-43ad-f52a-d2052f4fce9c"
      },
      "source": [
        "from google.colab import drive\n",
        "drive.mount('/content/gdrive')\n"
      ],
      "execution_count": null,
      "outputs": [
        {
          "output_type": "stream",
          "text": [
            "Mounted at /content/gdrive\n"
          ],
          "name": "stdout"
        }
      ]
    },
    {
      "cell_type": "code",
      "metadata": {
        "colab": {
          "base_uri": "https://localhost:8080/"
        },
        "id": "akoSFlEL-hiS",
        "outputId": "b7a461a1-f459-4046-afd5-28d03394eb5d"
      },
      "source": [
        "%cd TFmodels/"
      ],
      "execution_count": null,
      "outputs": [
        {
          "output_type": "stream",
          "text": [
            "/content/gdrive/My Drive/TFmodels\n"
          ],
          "name": "stdout"
        }
      ]
    },
    {
      "cell_type": "code",
      "metadata": {
        "colab": {
          "base_uri": "https://localhost:8080/"
        },
        "id": "VTsCyRAY-jyD",
        "outputId": "25ff7ec6-7335-4790-daf9-dfd02407897c"
      },
      "source": [
        "!ls"
      ],
      "execution_count": null,
      "outputs": [
        {
          "output_type": "stream",
          "text": [
            "my_model.h5\n"
          ],
          "name": "stdout"
        }
      ]
    },
    {
      "cell_type": "markdown",
      "metadata": {
        "id": "Rh1iCxziA2x8"
      },
      "source": [
        "# Deploying our Trained Model\n",
        "\n",
        "Once we are satisified with the model's performance we can deploy it so other programs can use it.  This is a complex subject since the deployment strategies depend on how our model will be used.\n",
        "\n",
        "In this script we will show a very basic way of deploying the model.  We will do just enough so we can make predictions with our trained model from Python.\n"
      ]
    },
    {
      "cell_type": "markdown",
      "metadata": {
        "id": "PRZuK-JoA4aW"
      },
      "source": [
        "## TensorFlow ModelServer\n",
        "\n",
        "We are going to use the Tensorflow ModelServer to serve our model.  This install may only work in Colab.  \n",
        "\n",
        "*The recommendation for general installation and usage of the server is to use a docker container.  This is documented in the repo, https://github.com/tensorflow/serving/blob/master/tensorflow_serving/g3doc/setup.md*"
      ]
    },
    {
      "cell_type": "markdown",
      "metadata": {
        "id": "tBw-HNkLBHZW"
      },
      "source": [
        "## Add TensorFlow Serving as installable\n",
        "\n",
        "Before we can install the TensorFlow ModelServer we need to make it known to the APT installer so the installer know where to fetch the bits.\n",
        "\n",
        "We do this by adding a key in to the APT database refering to the tensorflow-serving files location."
      ]
    },
    {
      "cell_type": "code",
      "metadata": {
        "colab": {
          "base_uri": "https://localhost:8080/"
        },
        "id": "f2dwpb8Y-ode",
        "outputId": "de89dc44-9ac8-4937-d840-1a661f8717c9"
      },
      "source": [
        "# add the key\n",
        "!echo 'deb http://storage.googleapis.com/tensorflow-serving-apt stable tensorflow-model-server tensorflow-model-server-universal' | tee /etc/apt/sources.list.d/tensorflow-serving.list && \\\n",
        "curl https://storage.googleapis.com/tensorflow-serving-apt/tensorflow-serving.release.pub.gpg | apt-key add -\n",
        "# update the database with the new key\n",
        "!apt update"
      ],
      "execution_count": null,
      "outputs": [
        {
          "output_type": "stream",
          "text": [
            "deb http://storage.googleapis.com/tensorflow-serving-apt stable tensorflow-model-server tensorflow-model-server-universal\n",
            "  % Total    % Received % Xferd  Average Speed   Time    Time     Time  Current\n",
            "                                 Dload  Upload   Total   Spent    Left  Speed\n",
            "100  2943  100  2943    0     0  14939      0 --:--:-- --:--:-- --:--:-- 14939\n",
            "OK\n",
            "Get:1 https://cloud.r-project.org/bin/linux/ubuntu bionic-cran40/ InRelease [3,626 B]\n",
            "Get:2 http://storage.googleapis.com/tensorflow-serving-apt stable InRelease [3,012 B]\n",
            "Ign:3 https://developer.download.nvidia.com/compute/cuda/repos/ubuntu1804/x86_64  InRelease\n",
            "Get:4 https://cloud.r-project.org/bin/linux/ubuntu bionic-cran40/ Packages [52.7 kB]\n",
            "Ign:5 https://developer.download.nvidia.com/compute/machine-learning/repos/ubuntu1804/x86_64  InRelease\n",
            "Hit:6 https://developer.download.nvidia.com/compute/cuda/repos/ubuntu1804/x86_64  Release\n",
            "Hit:7 https://developer.download.nvidia.com/compute/machine-learning/repos/ubuntu1804/x86_64  Release\n",
            "Get:8 http://ppa.launchpad.net/c2d4u.team/c2d4u4.0+/ubuntu bionic InRelease [15.9 kB]\n",
            "Get:9 http://security.ubuntu.com/ubuntu bionic-security InRelease [88.7 kB]\n",
            "Hit:10 http://archive.ubuntu.com/ubuntu bionic InRelease\n",
            "Get:11 http://archive.ubuntu.com/ubuntu bionic-updates InRelease [88.7 kB]\n",
            "Get:12 http://storage.googleapis.com/tensorflow-serving-apt stable/tensorflow-model-server-universal amd64 Packages [348 B]\n",
            "Get:14 http://storage.googleapis.com/tensorflow-serving-apt stable/tensorflow-model-server amd64 Packages [340 B]\n",
            "Hit:16 http://ppa.launchpad.net/cran/libgit2/ubuntu bionic InRelease\n",
            "Get:17 http://archive.ubuntu.com/ubuntu bionic-backports InRelease [74.6 kB]\n",
            "Get:18 http://ppa.launchpad.net/deadsnakes/ppa/ubuntu bionic InRelease [15.9 kB]\n",
            "Get:19 http://security.ubuntu.com/ubuntu bionic-security/universe amd64 Packages [1,402 kB]\n",
            "Hit:20 http://ppa.launchpad.net/graphics-drivers/ppa/ubuntu bionic InRelease\n",
            "Get:21 http://archive.ubuntu.com/ubuntu bionic-updates/main amd64 Packages [2,475 kB]\n",
            "Get:22 http://ppa.launchpad.net/c2d4u.team/c2d4u4.0+/ubuntu bionic/main Sources [1,749 kB]\n",
            "Get:23 http://security.ubuntu.com/ubuntu bionic-security/main amd64 Packages [2,045 kB]\n",
            "Get:24 http://archive.ubuntu.com/ubuntu bionic-updates/universe amd64 Packages [2,170 kB]\n",
            "Get:25 http://ppa.launchpad.net/c2d4u.team/c2d4u4.0+/ubuntu bionic/main amd64 Packages [895 kB]\n",
            "Get:26 http://ppa.launchpad.net/deadsnakes/ppa/ubuntu bionic/main amd64 Packages [39.5 kB]\n",
            "Fetched 11.1 MB in 7s (1,577 kB/s)\n",
            "Reading package lists... Done\n",
            "Building dependency tree       \n",
            "Reading state information... Done\n",
            "50 packages can be upgraded. Run 'apt list --upgradable' to see them.\n"
          ],
          "name": "stdout"
        }
      ]
    },
    {
      "cell_type": "markdown",
      "metadata": {
        "id": "rHar6_N4BXf2"
      },
      "source": [
        "## Install TensorFlow ModelServer\n",
        "We use apt-get to fetch and install TensorFlow ModelServer"
      ]
    },
    {
      "cell_type": "code",
      "metadata": {
        "colab": {
          "base_uri": "https://localhost:8080/"
        },
        "id": "3MhJRUck_BQg",
        "outputId": "59193d51-4c11-48f7-8764-cdc05577dff1"
      },
      "source": [
        "!apt-get install tensorflow-model-server"
      ],
      "execution_count": null,
      "outputs": [
        {
          "output_type": "stream",
          "text": [
            "Reading package lists... Done\n",
            "Building dependency tree       \n",
            "Reading state information... Done\n",
            "The following NEW packages will be installed:\n",
            "  tensorflow-model-server\n",
            "0 upgraded, 1 newly installed, 0 to remove and 50 not upgraded.\n",
            "Need to get 223 MB of archives.\n",
            "After this operation, 0 B of additional disk space will be used.\n",
            "Get:1 http://storage.googleapis.com/tensorflow-serving-apt stable/tensorflow-model-server amd64 tensorflow-model-server all 2.4.1 [223 MB]\n",
            "Fetched 223 MB in 4s (56.5 MB/s)\n",
            "Selecting previously unselected package tensorflow-model-server.\n",
            "(Reading database ... 160980 files and directories currently installed.)\n",
            "Preparing to unpack .../tensorflow-model-server_2.4.1_all.deb ...\n",
            "Unpacking tensorflow-model-server (2.4.1) ...\n",
            "Setting up tensorflow-model-server (2.4.1) ...\n"
          ],
          "name": "stdout"
        }
      ]
    },
    {
      "cell_type": "markdown",
      "metadata": {
        "id": "zFnsV0oGBi_c"
      },
      "source": [
        "### Start TensorFlow ModelServer\n",
        "\n",
        "This is where we start TensorFlow ModelServer and load our model.  After it loads we can start making inference requests using REST.  There are some important parameters:\n",
        "\n",
        "* `rest_api_port`: The port that you'll use for REST requests.\n",
        "* `model_name`: You'll use this in the URL of the REST requests.  It can be anything.\n",
        "* `model_base_path`: This is the path to the directory where you've saved your model.\n",
        "\n",
        "We need to define these as Python variables and as shell environment variables.  This will make this information available in Python code and in \n",
        "the shell where we will start the TensorFlow ModelServer process."
      ]
    },
    {
      "cell_type": "code",
      "metadata": {
        "id": "APvcpT2q_Cw_"
      },
      "source": [
        "# Define the environment variable where our saved model resides\n",
        "os.environ['MODEL_DIR'] = MODEL_DIR\n",
        "# Define the Python constant and environment variable to point to the port number used to access our model\n",
        "REST_PORT = '8501'\n",
        "os.environ['REST_PORT'] = REST_PORT\n",
        "# Define the Python constant and environment variable to point to the our model name.\n",
        "#  This is an abitrary name.\n",
        "MODEL_NAME = 'fashion_mnist'\n",
        "os.environ['MODEL_NAME'] = MODEL_NAME"
      ],
      "execution_count": null,
      "outputs": []
    },
    {
      "cell_type": "code",
      "metadata": {
        "colab": {
          "base_uri": "https://localhost:8080/"
        },
        "id": "LharZ-WmBnJW",
        "outputId": "d1f2c85a-d9f8-40a4-9274-2f79ac5d5a63"
      },
      "source": [
        "# Run the shell command to launch tensorflow_model_server.  Output status and error\n",
        "#  messages to the file server.log\n",
        "%%bash --bg \n",
        "nohup tensorflow_model_server \\\n",
        "  --rest_api_port=\"${REST_PORT}\" \\\n",
        "  --model_name=\"${MODEL_NAME}\" \\\n",
        "  --model_base_path=\"${MODEL_DIR}\" >server.log 2>&1\n"
      ],
      "execution_count": null,
      "outputs": [
        {
          "output_type": "stream",
          "text": [
            "Starting job # 0 in a separate thread.\n"
          ],
          "name": "stdout"
        }
      ]
    },
    {
      "cell_type": "code",
      "metadata": {
        "colab": {
          "base_uri": "https://localhost:8080/"
        },
        "id": "D2mWHgpmBqL0",
        "outputId": "148abb9c-eeb2-430f-ed98-9468d05cb722"
      },
      "source": [
        "# Display the tail (last few lines) of the server log which will show any errors\n",
        "!tail server.log"
      ],
      "execution_count": null,
      "outputs": [
        {
          "output_type": "stream",
          "text": [
            "2021-04-03 18:37:32.821300: I external/org_tensorflow/tensorflow/cc/saved_model/loader.cc:206] Restoring SavedModel bundle.\n",
            "2021-04-03 18:37:32.822904: I external/org_tensorflow/tensorflow/core/platform/profile_utils/cpu_utils.cc:112] CPU Frequency: 2199995000 Hz\n",
            "2021-04-03 18:37:32.864689: I external/org_tensorflow/tensorflow/cc/saved_model/loader.cc:190] Running initialization op on SavedModel bundle at path: /tmp/1\n",
            "2021-04-03 18:37:32.872398: I external/org_tensorflow/tensorflow/cc/saved_model/loader.cc:277] SavedModel load for tags { serve }; Status: success: OK. Took 87546 microseconds.\n",
            "2021-04-03 18:37:32.873635: I tensorflow_serving/servables/tensorflow/saved_model_warmup_util.cc:59] No warmup data file found at /tmp/1/assets.extra/tf_serving_warmup_requests\n",
            "2021-04-03 18:37:32.873875: I tensorflow_serving/core/loader_harness.cc:87] Successfully loaded servable version {name: fashion_mnist version: 1}\n",
            "2021-04-03 18:37:32.875189: I tensorflow_serving/model_servers/server.cc:371] Running gRPC ModelServer at 0.0.0.0:8500 ...\n",
            "[warn] getaddrinfo: address family for nodename not supported\n",
            "2021-04-03 18:37:32.876203: I tensorflow_serving/model_servers/server.cc:391] Exporting HTTP/REST API at:localhost:8501 ...\n",
            "[evhttp_server.cc : 238] NET_LOG: Entering the event loop ...\n"
          ],
          "name": "stdout"
        }
      ]
    },
    {
      "cell_type": "code",
      "metadata": {
        "id": "dzUIpn-1BtOo"
      },
      "source": [
        "def show_image(index, title, show_colorbar=False):\n",
        "  plt.figure()\n",
        "  plt.title('\\n\\n{}'.format(title), fontdict={'size': 16})\n",
        "  plt.imshow(test_images[index].reshape(28,28), cmap='gray')  # data is grayscale, but displays in color without cmap='gray'\n",
        "  if (show_colorbar):\n",
        "    plt.colorbar()\n",
        "  plt.axis('off')\n",
        "  plt.show()\n",
        "  "
      ],
      "execution_count": null,
      "outputs": []
    },
    {
      "cell_type": "code",
      "metadata": {
        "id": "hr6p42rXBwlr"
      },
      "source": [
        "!pip install -q requests    # Install the requests library which makes HTTP requests to the TensorFlow server \n",
        "                            # using our trained our model \n",
        "import requests     # import requests "
      ],
      "execution_count": null,
      "outputs": []
    },
    {
      "cell_type": "code",
      "metadata": {
        "id": "VZzw7BlfBz_7"
      },
      "source": [
        "# Select a random image to classify\n",
        "import random\n",
        "image_index = random.randint(0,len(test_images)-1)\n"
      ],
      "execution_count": null,
      "outputs": []
    },
    {
      "cell_type": "code",
      "metadata": {
        "id": "6-PIuIdGB33I"
      },
      "source": [
        " # Import json library and create the json data structure to be passed in the request.\n",
        "import json\n",
        "\n",
        "# The data is assumed to be a list of images, a 4D tensor of the shape [*,28,28,1].  \n",
        "# Convert the single 3d to 4d\n",
        "check_images = np.reshape(test_images[image_index],(-1,28,28,1))\n",
        "\n",
        "# Construct json data passed to server.  \"instances\" will hold the image(s) we \n",
        "#   want the model to classify\n",
        "data = json.dumps({'signature_name': 'serving_default', 'instances': check_images.tolist()}) "
      ],
      "execution_count": null,
      "outputs": []
    },
    {
      "cell_type": "code",
      "metadata": {
        "colab": {
          "base_uri": "https://localhost:8080/",
          "height": 231
        },
        "id": "QoLsVhUjB74X",
        "outputId": "e2a28686-7b03-461a-9049-248bf90fbf92"
      },
      "source": [
        " #Create the request\n",
        "\n",
        "# HTTP request header\n",
        "headers = {'content-type': 'application/json'}\n",
        "\n",
        "# Build the url to the service using the constants we defined earlier, should be of the form:\n",
        "#      http://localhost:8501/v1/models/fashion_mnist:predict\n",
        "predict_service_url = 'http://localhost:' + REST_PORT + '/v1/models/' + MODEL_NAME + ':predict'\n",
        "\n",
        "# Make request to the service.  Pass the headers and data.  Wait for the server's reponse.\n",
        "json_response = requests.post(predict_service_url, data=data, headers=headers)\n",
        "\n",
        "# Parse the response.  For each images we pass we get a list of probabilities \n",
        "predictions = json.loads(json_response.text)['predictions']\n",
        "# predictions[0] is the 10 probabilites for our first and only image.\n",
        "# predictions[0] has values in the form [0.1, 0.05, ...., 0.6]\n",
        "\n",
        "# The numpy argmax function returns the index of the highest value.  This is \n",
        "# the highest probabilty class predicted by our model. \n",
        "predicted_class = np.argmax(predictions[0])\n",
        "\n",
        "# Display image, the actual class and the predicted class\n",
        "show_image(img_index, 'Model predicted class: {} (class {}). \\n Actually class: {} (class {})'.format(\n",
        "  class_names[predicted_class], predicted_class, class_names[test_labels[image_index]], test_labels[image_index]))"
      ],
      "execution_count": null,
      "outputs": [
        {
          "output_type": "error",
          "ename": "TypeError",
          "evalue": "ignored",
          "traceback": [
            "\u001b[0;31m---------------------------------------------------------------------------\u001b[0m",
            "\u001b[0;31mTypeError\u001b[0m                                 Traceback (most recent call last)",
            "\u001b[0;32m<ipython-input-100-c5c677e92df4>\u001b[0m in \u001b[0;36m<module>\u001b[0;34m()\u001b[0m\n\u001b[1;32m     22\u001b[0m \u001b[0;31m# Display image, the actual class and the predicted class\u001b[0m\u001b[0;34m\u001b[0m\u001b[0;34m\u001b[0m\u001b[0;34m\u001b[0m\u001b[0m\n\u001b[1;32m     23\u001b[0m show_image(img_index, 'Model predicted class: {} (class {}). \\n Actually class: {} (class {})'.format(\n\u001b[0;32m---> 24\u001b[0;31m  class_names[predicted_class], predicted_class, class_names[test_labels[image_index]], test_labels[image_index]))\n\u001b[0m",
            "\u001b[0;31mTypeError\u001b[0m: only integer scalar arrays can be converted to a scalar index"
          ]
        }
      ]
    },
    {
      "cell_type": "code",
      "metadata": {
        "id": "PVet8UTjCB0H"
      },
      "source": [
        ""
      ],
      "execution_count": null,
      "outputs": []
    }
  ]
}