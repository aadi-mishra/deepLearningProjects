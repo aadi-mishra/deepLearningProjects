{
  "nbformat": 4,
  "nbformat_minor": 0,
  "metadata": {
    "colab": {
      "name": "regression_HousingPricePrediction.ipynb",
      "provenance": [],
      "collapsed_sections": [],
      "authorship_tag": "ABX9TyNVwAZHIaQ4LmHCtzt/lSM2",
      "include_colab_link": true
    },
    "kernelspec": {
      "name": "python3",
      "display_name": "Python 3"
    },
    "language_info": {
      "name": "python"
    }
  },
  "cells": [
    {
      "cell_type": "markdown",
      "metadata": {
        "id": "view-in-github",
        "colab_type": "text"
      },
      "source": [
        "<a href=\"https://colab.research.google.com/github/aadi-mishra/Deep-Learning-Projects-Keras/blob/main/regression_HousingPricePrediction.ipynb\" target=\"_parent\"><img src=\"https://colab.research.google.com/assets/colab-badge.svg\" alt=\"Open In Colab\"/></a>"
      ]
    },
    {
      "cell_type": "markdown",
      "metadata": {
        "id": "I8w6E6GwBPkm"
      },
      "source": [
        "The goal is to predict the median price of homes in a given Boston suburb in the\n",
        "mid-1970s, given data points about the suburb at the time, such as the crime rate, the\n",
        "local property tax rate, and so on.  The dataset 506 data points split\n",
        "between 404 training samples and 102 test samples. And each feature in the input data\n",
        "(for example, the crime rate) has a different scale. For instance, some values are pro-\n",
        "portions, which take values between 0 and 1; others take values between 1 and 12, oth-\n",
        "ers between 0 and 100, and so on."
      ]
    },
    {
      "cell_type": "code",
      "metadata": {
        "id": "_pMDzKZcBEw5"
      },
      "source": [
        "# Importing libraries \n",
        "from keras.datasets import boston_housing\n",
        "from keras import models\n",
        "from keras import layers\n",
        "import numpy as np \n",
        "import pandas as pd"
      ],
      "execution_count": 27,
      "outputs": []
    },
    {
      "cell_type": "markdown",
      "metadata": {
        "id": "5cF9dQ3sSbFa"
      },
      "source": [
        ""
      ]
    },
    {
      "cell_type": "code",
      "metadata": {
        "id": "m6gT9RVOFdkf"
      },
      "source": [
        "# Loading the dataset \n",
        "(train_data, train_targets), (test_data, test_targets) = boston_housing.load_data()"
      ],
      "execution_count": 28,
      "outputs": []
    },
    {
      "cell_type": "code",
      "metadata": {
        "colab": {
          "base_uri": "https://localhost:8080/",
          "height": 427
        },
        "id": "cL_5j8vUFv7S",
        "outputId": "7942d0ff-498f-46d2-cbd2-5b1383299abe"
      },
      "source": [
        "# Looking at the data\n",
        "print(\"Dimension Training Data : \", train_data.shape)\n",
        "print(\"Dimension Testing Data : \", test_data.shape)\n",
        "print(train_data[0])\n",
        "\n",
        "df = pd.DataFrame(train_data)\n",
        "df.head(10)"
      ],
      "execution_count": 29,
      "outputs": [
        {
          "output_type": "stream",
          "text": [
            "Dimension Training Data :  (404, 13)\n",
            "Dimension Testing Data :  (102, 13)\n",
            "[  1.23247   0.        8.14      0.        0.538     6.142    91.7\n",
            "   3.9769    4.      307.       21.      396.9      18.72   ]\n"
          ],
          "name": "stdout"
        },
        {
          "output_type": "execute_result",
          "data": {
            "text/html": [
              "<div>\n",
              "<style scoped>\n",
              "    .dataframe tbody tr th:only-of-type {\n",
              "        vertical-align: middle;\n",
              "    }\n",
              "\n",
              "    .dataframe tbody tr th {\n",
              "        vertical-align: top;\n",
              "    }\n",
              "\n",
              "    .dataframe thead th {\n",
              "        text-align: right;\n",
              "    }\n",
              "</style>\n",
              "<table border=\"1\" class=\"dataframe\">\n",
              "  <thead>\n",
              "    <tr style=\"text-align: right;\">\n",
              "      <th></th>\n",
              "      <th>0</th>\n",
              "      <th>1</th>\n",
              "      <th>2</th>\n",
              "      <th>3</th>\n",
              "      <th>4</th>\n",
              "      <th>5</th>\n",
              "      <th>6</th>\n",
              "      <th>7</th>\n",
              "      <th>8</th>\n",
              "      <th>9</th>\n",
              "      <th>10</th>\n",
              "      <th>11</th>\n",
              "      <th>12</th>\n",
              "    </tr>\n",
              "  </thead>\n",
              "  <tbody>\n",
              "    <tr>\n",
              "      <th>0</th>\n",
              "      <td>1.23247</td>\n",
              "      <td>0.0</td>\n",
              "      <td>8.14</td>\n",
              "      <td>0.0</td>\n",
              "      <td>0.538</td>\n",
              "      <td>6.142</td>\n",
              "      <td>91.7</td>\n",
              "      <td>3.9769</td>\n",
              "      <td>4.0</td>\n",
              "      <td>307.0</td>\n",
              "      <td>21.0</td>\n",
              "      <td>396.90</td>\n",
              "      <td>18.72</td>\n",
              "    </tr>\n",
              "    <tr>\n",
              "      <th>1</th>\n",
              "      <td>0.02177</td>\n",
              "      <td>82.5</td>\n",
              "      <td>2.03</td>\n",
              "      <td>0.0</td>\n",
              "      <td>0.415</td>\n",
              "      <td>7.610</td>\n",
              "      <td>15.7</td>\n",
              "      <td>6.2700</td>\n",
              "      <td>2.0</td>\n",
              "      <td>348.0</td>\n",
              "      <td>14.7</td>\n",
              "      <td>395.38</td>\n",
              "      <td>3.11</td>\n",
              "    </tr>\n",
              "    <tr>\n",
              "      <th>2</th>\n",
              "      <td>4.89822</td>\n",
              "      <td>0.0</td>\n",
              "      <td>18.10</td>\n",
              "      <td>0.0</td>\n",
              "      <td>0.631</td>\n",
              "      <td>4.970</td>\n",
              "      <td>100.0</td>\n",
              "      <td>1.3325</td>\n",
              "      <td>24.0</td>\n",
              "      <td>666.0</td>\n",
              "      <td>20.2</td>\n",
              "      <td>375.52</td>\n",
              "      <td>3.26</td>\n",
              "    </tr>\n",
              "    <tr>\n",
              "      <th>3</th>\n",
              "      <td>0.03961</td>\n",
              "      <td>0.0</td>\n",
              "      <td>5.19</td>\n",
              "      <td>0.0</td>\n",
              "      <td>0.515</td>\n",
              "      <td>6.037</td>\n",
              "      <td>34.5</td>\n",
              "      <td>5.9853</td>\n",
              "      <td>5.0</td>\n",
              "      <td>224.0</td>\n",
              "      <td>20.2</td>\n",
              "      <td>396.90</td>\n",
              "      <td>8.01</td>\n",
              "    </tr>\n",
              "    <tr>\n",
              "      <th>4</th>\n",
              "      <td>3.69311</td>\n",
              "      <td>0.0</td>\n",
              "      <td>18.10</td>\n",
              "      <td>0.0</td>\n",
              "      <td>0.713</td>\n",
              "      <td>6.376</td>\n",
              "      <td>88.4</td>\n",
              "      <td>2.5671</td>\n",
              "      <td>24.0</td>\n",
              "      <td>666.0</td>\n",
              "      <td>20.2</td>\n",
              "      <td>391.43</td>\n",
              "      <td>14.65</td>\n",
              "    </tr>\n",
              "    <tr>\n",
              "      <th>5</th>\n",
              "      <td>0.28392</td>\n",
              "      <td>0.0</td>\n",
              "      <td>7.38</td>\n",
              "      <td>0.0</td>\n",
              "      <td>0.493</td>\n",
              "      <td>5.708</td>\n",
              "      <td>74.3</td>\n",
              "      <td>4.7211</td>\n",
              "      <td>5.0</td>\n",
              "      <td>287.0</td>\n",
              "      <td>19.6</td>\n",
              "      <td>391.13</td>\n",
              "      <td>11.74</td>\n",
              "    </tr>\n",
              "    <tr>\n",
              "      <th>6</th>\n",
              "      <td>9.18702</td>\n",
              "      <td>0.0</td>\n",
              "      <td>18.10</td>\n",
              "      <td>0.0</td>\n",
              "      <td>0.700</td>\n",
              "      <td>5.536</td>\n",
              "      <td>100.0</td>\n",
              "      <td>1.5804</td>\n",
              "      <td>24.0</td>\n",
              "      <td>666.0</td>\n",
              "      <td>20.2</td>\n",
              "      <td>396.90</td>\n",
              "      <td>23.60</td>\n",
              "    </tr>\n",
              "    <tr>\n",
              "      <th>7</th>\n",
              "      <td>4.09740</td>\n",
              "      <td>0.0</td>\n",
              "      <td>19.58</td>\n",
              "      <td>0.0</td>\n",
              "      <td>0.871</td>\n",
              "      <td>5.468</td>\n",
              "      <td>100.0</td>\n",
              "      <td>1.4118</td>\n",
              "      <td>5.0</td>\n",
              "      <td>403.0</td>\n",
              "      <td>14.7</td>\n",
              "      <td>396.90</td>\n",
              "      <td>26.42</td>\n",
              "    </tr>\n",
              "    <tr>\n",
              "      <th>8</th>\n",
              "      <td>2.15505</td>\n",
              "      <td>0.0</td>\n",
              "      <td>19.58</td>\n",
              "      <td>0.0</td>\n",
              "      <td>0.871</td>\n",
              "      <td>5.628</td>\n",
              "      <td>100.0</td>\n",
              "      <td>1.5166</td>\n",
              "      <td>5.0</td>\n",
              "      <td>403.0</td>\n",
              "      <td>14.7</td>\n",
              "      <td>169.27</td>\n",
              "      <td>16.65</td>\n",
              "    </tr>\n",
              "    <tr>\n",
              "      <th>9</th>\n",
              "      <td>1.62864</td>\n",
              "      <td>0.0</td>\n",
              "      <td>21.89</td>\n",
              "      <td>0.0</td>\n",
              "      <td>0.624</td>\n",
              "      <td>5.019</td>\n",
              "      <td>100.0</td>\n",
              "      <td>1.4394</td>\n",
              "      <td>4.0</td>\n",
              "      <td>437.0</td>\n",
              "      <td>21.2</td>\n",
              "      <td>396.90</td>\n",
              "      <td>34.41</td>\n",
              "    </tr>\n",
              "  </tbody>\n",
              "</table>\n",
              "</div>"
            ],
            "text/plain": [
              "        0     1      2    3      4   ...    8      9     10      11     12\n",
              "0  1.23247   0.0   8.14  0.0  0.538  ...   4.0  307.0  21.0  396.90  18.72\n",
              "1  0.02177  82.5   2.03  0.0  0.415  ...   2.0  348.0  14.7  395.38   3.11\n",
              "2  4.89822   0.0  18.10  0.0  0.631  ...  24.0  666.0  20.2  375.52   3.26\n",
              "3  0.03961   0.0   5.19  0.0  0.515  ...   5.0  224.0  20.2  396.90   8.01\n",
              "4  3.69311   0.0  18.10  0.0  0.713  ...  24.0  666.0  20.2  391.43  14.65\n",
              "5  0.28392   0.0   7.38  0.0  0.493  ...   5.0  287.0  19.6  391.13  11.74\n",
              "6  9.18702   0.0  18.10  0.0  0.700  ...  24.0  666.0  20.2  396.90  23.60\n",
              "7  4.09740   0.0  19.58  0.0  0.871  ...   5.0  403.0  14.7  396.90  26.42\n",
              "8  2.15505   0.0  19.58  0.0  0.871  ...   5.0  403.0  14.7  169.27  16.65\n",
              "9  1.62864   0.0  21.89  0.0  0.624  ...   4.0  437.0  21.2  396.90  34.41\n",
              "\n",
              "[10 rows x 13 columns]"
            ]
          },
          "metadata": {
            "tags": []
          },
          "execution_count": 29
        }
      ]
    },
    {
      "cell_type": "markdown",
      "metadata": {
        "id": "wou3D4HaGGi3"
      },
      "source": [
        "We have 404 training samples and 102 test samples, each with 13\n",
        "numerical features, such as per capita crime rate, average number of rooms per dwell-\n",
        "ing, accessibility to highways, and so on.\n",
        "\n",
        "The targets are the median values of owner-occupied homes, in thousands of\n",
        "dollars"
      ]
    },
    {
      "cell_type": "code",
      "metadata": {
        "colab": {
          "base_uri": "https://localhost:8080/"
        },
        "id": "Bz7MpM_wGD_x",
        "outputId": "0b76459e-f912-45e8-f15a-80ee1d35f6ac"
      },
      "source": [
        "print(\"Minimum House Price : \",min(train_targets))\n",
        "print(\"Maximum House Price : \",max(train_targets))"
      ],
      "execution_count": 30,
      "outputs": [
        {
          "output_type": "stream",
          "text": [
            "Minimum House Price :  5.0\n",
            "Maximum House Price :  50.0\n"
          ],
          "name": "stdout"
        }
      ]
    },
    {
      "cell_type": "markdown",
      "metadata": {
        "id": "WE4T229XHeMl"
      },
      "source": [
        "The prices are typically between `$5000` and `$50,000`."
      ]
    },
    {
      "cell_type": "markdown",
      "metadata": {
        "id": "b0FosKo7PJU3"
      },
      "source": [
        "It would be problematic to feed into a neural network values that all take wildly different ranges. The network might be able to automatically adapt to such heterogeneous\n",
        "data, but it would definitely make learning more difficult. A widespread best practice\n",
        "to deal with such data is to do feature-wise normalization: for each feature in the input\n",
        "data (a column in the input data matrix), you subtract the mean of the feature and\n",
        "divide by the standard deviation, so that the feature is centered around 0 and has a\n",
        "unit standard deviation."
      ]
    },
    {
      "cell_type": "code",
      "metadata": {
        "colab": {
          "base_uri": "https://localhost:8080/"
        },
        "id": "wyJzbzdMG8PU",
        "outputId": "ad258cd0-28ff-453d-e611-5e6836d866d5"
      },
      "source": [
        "# Preparing Data\n",
        "print(train_data[1])\n",
        "mean = train_data.mean(axis=0) # mean of all the columns stored in this list \"mean\"\n",
        "train_data -= mean # Elementwise subtraction\n",
        "std = train_data.std(axis=0) # std deviation od all columns\n",
        "\n",
        "train_data /= std\n",
        "\n",
        "test_data -= mean\n",
        "test_data /= std\n",
        "print(train_data[1])"
      ],
      "execution_count": 31,
      "outputs": [
        {
          "output_type": "stream",
          "text": [
            "[2.1770e-02 8.2500e+01 2.0300e+00 0.0000e+00 4.1500e-01 7.6100e+00\n",
            " 1.5700e+01 6.2700e+00 2.0000e+00 3.4800e+02 1.4700e+01 3.9538e+02\n",
            " 3.1100e+00]\n",
            "[-0.40342651  2.99178419 -1.33391162 -0.25683275 -1.21518188  1.89434613\n",
            " -1.91036058  1.24758524 -0.85646254 -0.34843254 -1.71818909  0.43190599\n",
            " -1.32920239]\n"
          ],
          "name": "stdout"
        }
      ]
    },
    {
      "cell_type": "markdown",
      "metadata": {
        "id": "Fi-89xaQQVGG"
      },
      "source": [
        "Note that the quantities used for normalizing the test data are computed using the\n",
        "training data. You should never use in your workflow any quantity computed on the\n",
        "test data, even for something as simple as data normalization."
      ]
    },
    {
      "cell_type": "code",
      "metadata": {
        "id": "kbIav3X2PoJV"
      },
      "source": [
        "# Building our model\n",
        "\n",
        "def build_model():\n",
        "  model = models.Sequential()\n",
        "  model.add(layers.Dense(64, activation = 'relu', input_shape = (train_data.shape[1],)))\n",
        "  model.add(layers.Dense(64, activation='relu'))\n",
        "  model.add(layers.Dense(1))\n",
        "  model.compile(optimizer = 'rmsprop', loss = 'mse', metrics = ['mae'])\n",
        "  return model"
      ],
      "execution_count": 42,
      "outputs": []
    },
    {
      "cell_type": "markdown",
      "metadata": {
        "id": "hZMuA5jtTHZ7"
      },
      "source": [
        "Since the size of our dataset is very small a train-test-val split is insufficient to privide a good evaluation of our model, and for one such split we might have a high variance of the validation score. \n",
        "In order to avoid this and have a reliable evaluation of our model we can use `k-fold cross validation`.\n",
        "\n",
        "It consists of splitting the available data into K partitions (typically K = 4 or 5), instanti-\n",
        "ating K identical models, and training each one on K – 1 partitions while evaluating on\n",
        "the remaining partition. The validation score for the model used is then the average of\n",
        "the K validation scores obtained. In terms of code, this is straightforward."
      ]
    },
    {
      "cell_type": "code",
      "metadata": {
        "colab": {
          "base_uri": "https://localhost:8080/"
        },
        "id": "WvNkR-ytRiG-",
        "outputId": "1a098bb0-e5cc-4fa2-e226-cf2182f3c38e"
      },
      "source": [
        "# K-fold validation\n",
        "k=4 \n",
        "num_val_samples = len(train_data) // k\n",
        "print(num_val_samples)\n",
        "num_epochs = 100\n",
        "all_scores = []"
      ],
      "execution_count": 39,
      "outputs": [
        {
          "output_type": "stream",
          "text": [
            "101\n"
          ],
          "name": "stdout"
        }
      ]
    },
    {
      "cell_type": "code",
      "metadata": {
        "colab": {
          "base_uri": "https://localhost:8080/"
        },
        "id": "PksTx8qJUZwi",
        "outputId": "a246bbb2-1571-42eb-ac20-70b2c3cffefe"
      },
      "source": [
        "for i in range(k):\n",
        "  print('processing fold#',i)\n",
        "  val_data = train_data[i * num_val_samples: (i + 1) * num_val_samples]\n",
        "  val_targets = train_targets[i * num_val_samples: (i + 1) * num_val_samples]\n",
        "\n",
        "  partial_train_data = np.concatenate([train_data[:i*num_val_samples], train_data[(i+1) * num_val_samples :]], axis=0)\n",
        "  partial_train_targets = np.concatenate([train_targets[:i * num_val_samples],train_targets[(i + 1) * num_val_samples:]],axis=0)\n",
        "\n",
        "  model = build_model()\n",
        "\n",
        "  model.fit(partial_train_data, partial_train_targets, epochs=num_epochs, batch_size=1, verbose=0)\n",
        "  val_mse, val_mae = model.evaluate(val_data, val_targets, verbose=0)\n",
        "  all_scores.append(val_mae)\n",
        "  "
      ],
      "execution_count": 44,
      "outputs": [
        {
          "output_type": "stream",
          "text": [
            "processing fold# 0\n",
            "processing fold# 1\n",
            "processing fold# 2\n",
            "processing fold# 3\n"
          ],
          "name": "stdout"
        }
      ]
    },
    {
      "cell_type": "code",
      "metadata": {
        "colab": {
          "base_uri": "https://localhost:8080/"
        },
        "id": "6CQSK3kEV9Xv",
        "outputId": "78b537ac-d816-4903-ee07-b01ed2f354fd"
      },
      "source": [
        "print(all_scores)\n",
        "print(np.mean(all_scores))"
      ],
      "execution_count": 45,
      "outputs": [
        {
          "output_type": "stream",
          "text": [
            "[2.228663444519043, 2.183790922164917, 2.7220911979675293, 2.590508460998535]\n",
            "2.431263506412506\n"
          ],
          "name": "stdout"
        }
      ]
    },
    {
      "cell_type": "code",
      "metadata": {
        "colab": {
          "base_uri": "https://localhost:8080/"
        },
        "id": "QvwE7poDZL8p",
        "outputId": "b37927c3-e9d5-4976-8e13-e93aed6413f3"
      },
      "source": [
        "num_epochs = 500\n",
        "all_mae_histories = []\n",
        "# Saving the validation logs at each fold\n",
        "for i in range(k):\n",
        "  print('processing fold#', i)\n",
        "  val_data = train_data[i * num_val_samples: (i + 1) * num_val_samples]\n",
        "  val_targets = train_targets[i * num_val_samples: (i + 1) * num_val_samples]\n",
        "\n",
        "  partial_train_data = np.concatenate([train_data[:i*num_val_samples], train_data[(i+1) * num_val_samples :]], axis=0)\n",
        "  partial_train_targets = np.concatenate([train_targets[:i * num_val_samples],train_targets[(i + 1) * num_val_samples:]],axis=0)\n",
        "\n",
        "  model = build_model()\n",
        "\n",
        "  history = model.fit(partial_train_data, partial_train_targets, validation_data=(val_data, val_targets),epochs=num_epochs, batch_size=1, verbose=0)\n",
        "  print(history.params)\n",
        "  mae_history = history.history['val_mae']\n",
        "  all_mae_histories.append(mae_history)\n",
        "\n",
        "  val_mse, val_mae = model.evaluate(val_data, val_targets, verbose=0)\n",
        "  all_scores.append(val_mae)"
      ],
      "execution_count": 56,
      "outputs": [
        {
          "output_type": "stream",
          "text": [
            "processing fold# 0\n",
            "{'verbose': 0, 'epochs': 500, 'steps': 303}\n",
            "processing fold# 1\n",
            "{'verbose': 0, 'epochs': 500, 'steps': 303}\n",
            "processing fold# 2\n",
            "{'verbose': 0, 'epochs': 500, 'steps': 303}\n",
            "processing fold# 3\n",
            "{'verbose': 0, 'epochs': 500, 'steps': 303}\n"
          ],
          "name": "stdout"
        }
      ]
    },
    {
      "cell_type": "markdown",
      "metadata": {
        "id": "is5T1XvlZ5nv"
      },
      "source": [
        "Building the history of successive mean K-fold validation scores"
      ]
    },
    {
      "cell_type": "code",
      "metadata": {
        "id": "JwxmxmoGZ3gg"
      },
      "source": [
        "average_mae_history = [np.mean([x[i] for x in all_mae_histories]) for i in range(num_epochs)]"
      ],
      "execution_count": 57,
      "outputs": []
    },
    {
      "cell_type": "code",
      "metadata": {
        "colab": {
          "base_uri": "https://localhost:8080/",
          "height": 279
        },
        "id": "Brg-ld8EiWTD",
        "outputId": "10906c50-7269-4b1b-e576-de6d20cbc446"
      },
      "source": [
        "import matplotlib.pyplot as plt\n",
        "plt.plot(range(1, len(average_mae_history) + 1), average_mae_history)\n",
        "plt.xlabel('Epochs')\n",
        "plt.ylabel('Validation MAE')\n",
        "plt.show()"
      ],
      "execution_count": 58,
      "outputs": [
        {
          "output_type": "display_data",
          "data": {
            "image/png": "[encoded data removed]",
            "text/plain": [
              "<Figure size 432x288 with 1 Axes>"
            ]
          },
          "metadata": {
            "tags": [],
            "needs_background": "light"
          }
        }
      ]
    },
    {
      "cell_type": "markdown",
      "metadata": {
        "id": "-j8VVO8nikda"
      },
      "source": [
        "It may be a little difficult to see the plot, due to scaling issues and relatively high vari-\n",
        "ance. Let’s do the following:\n",
        "* Omit the first 10 data points, which are on a different scale than the rest of the curve.\n",
        "* Replace each point with an exponential moving average of the previous points,\n",
        "to obtain a smooth curve."
      ]
    },
    {
      "cell_type": "code",
      "metadata": {
        "colab": {
          "base_uri": "https://localhost:8080/",
          "height": 279
        },
        "id": "S9StGH8piZdl",
        "outputId": "4535e9c6-48d6-426a-da64-e56ea47197fd"
      },
      "source": [
        "def smooth_curve(points, factor=0.9):\n",
        "  smoothed_points = []\n",
        "  for point in points:\n",
        "    if smoothed_points:\n",
        "      previous = smoothed_points[-1]\n",
        "      smoothed_points.append(previous * factor + point * (1 - factor))\n",
        "    else:\n",
        "      smoothed_points.append(point)\n",
        "  return smoothed_points\n",
        "smooth_mae_history = smooth_curve(average_mae_history[10:])\n",
        "plt.plot(range(1, len(smooth_mae_history) + 1), smooth_mae_history)\n",
        "plt.xlabel('Epochs')\n",
        "plt.ylabel('Validation MAE')\n",
        "plt.show()"
      ],
      "execution_count": 60,
      "outputs": [
        {
          "output_type": "display_data",
          "data": {
            "image/png": "[encoded data removed]",
            "text/plain": [
              "<Figure size 432x288 with 1 Axes>"
            ]
          },
          "metadata": {
            "tags": [],
            "needs_background": "light"
          }
        }
      ]
    },
    {
      "cell_type": "markdown",
      "metadata": {
        "id": "OP5qpYmki5cp"
      },
      "source": [
        "According to this plot, validation MAE stops improving significantly after 80 epochs.\n",
        "Past that point, you start overfitting."
      ]
    },
    {
      "cell_type": "code",
      "metadata": {
        "colab": {
          "base_uri": "https://localhost:8080/"
        },
        "id": "dwxqgQ4Dit5D",
        "outputId": "155f752b-74dc-4a2a-abd8-2de12561e21a"
      },
      "source": [
        "# Training Final Model after tuning the parameters\n",
        "\n",
        "model = build_model()\n",
        "model.fit(train_data, train_targets,\n",
        "epochs=80, batch_size=16, verbose=0)\n",
        "test_mse_score, test_mae_score = model.evaluate(test_data, test_targets)"
      ],
      "execution_count": 63,
      "outputs": [
        {
          "output_type": "stream",
          "text": [
            "4/4 [==============================] - 0s 3ms/step - loss: 17.1618 - mae: 2.5638\n"
          ],
          "name": "stdout"
        }
      ]
    },
    {
      "cell_type": "code",
      "metadata": {
        "colab": {
          "base_uri": "https://localhost:8080/"
        },
        "id": "fiA_xRyOjC12",
        "outputId": "48ebf628-d8ef-4a0a-cc8d-fe3948850bd5"
      },
      "source": [
        "test_mae_score"
      ],
      "execution_count": 64,
      "outputs": [
        {
          "output_type": "execute_result",
          "data": {
            "text/plain": [
              "2.5638396739959717"
            ]
          },
          "metadata": {
            "tags": []
          },
          "execution_count": 64
        }
      ]
    }
  ]
}