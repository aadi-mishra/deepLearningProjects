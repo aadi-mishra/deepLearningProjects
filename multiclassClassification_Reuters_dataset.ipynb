{
  "nbformat": 4,
  "nbformat_minor": 0,
  "metadata": {
    "colab": {
      "name": "multiclassClassification_Reuters_dataset.ipynb",
      "provenance": [],
      "collapsed_sections": [],
      "authorship_tag": "ABX9TyPuo67iLg0LGzF6VTn2GZH6",
      "include_colab_link": true
    },
    "kernelspec": {
      "name": "python3",
      "display_name": "Python 3"
    },
    "language_info": {
      "name": "python"
    }
  },
  "cells": [
    {
      "cell_type": "markdown",
      "metadata": {
        "id": "view-in-github",
        "colab_type": "text"
      },
      "source": [
        "<a href=\"https://colab.research.google.com/github/aadi-mishra/Deep-Learning-Projects-Keras/blob/main/multiclassClassification_Reuters_dataset.ipynb\" target=\"_parent\"><img src=\"https://colab.research.google.com/assets/colab-badge.svg\" alt=\"Open In Colab\"/></a>"
      ]
    },
    {
      "cell_type": "markdown",
      "metadata": {
        "id": "SE0IFnvIi3Fm"
      },
      "source": [
        "The goal is to build a network to classify Reuters newswires into 46 mutually exclusive topics.Reuters dataset is a set of short newswires and their topics, published\n",
        "by Reuters in 1986. It’s a simple, widely used toy dataset for text classification. There\n",
        "are 46 different topics; some topics are more represented than others, but each topic\n",
        "has at least 10 examples in the training set.\n",
        "Reuters dataset comes packaged as part of Keras."
      ]
    },
    {
      "cell_type": "code",
      "metadata": {
        "id": "txE-h_3giurS"
      },
      "source": [
        "# Load Dataset\n",
        "from keras.datasets import reuters\n",
        "from keras.utils.np_utils import to_categorical\n",
        "from keras import models\n",
        "from keras import layers\n",
        "import numpy as np\n",
        "import pandas as pd"
      ],
      "execution_count": 4,
      "outputs": []
    },
    {
      "cell_type": "markdown",
      "metadata": {
        "id": "l-NQAhVCk2Nc"
      },
      "source": [
        "The argument`num_words=10000` restricts the data to the\n",
        "10,000 most frequently occurring words found in the data."
      ]
    },
    {
      "cell_type": "code",
      "metadata": {
        "colab": {
          "base_uri": "https://localhost:8080/"
        },
        "id": "leRKcCZNkjf_",
        "outputId": "755b4052-8d5d-4e4d-de17-aedbbb806c7b"
      },
      "source": [
        "# Separate Training and Testing data\n",
        "(train_data, train_labels), (test_data, test_labels) = reuters.load_data(num_words=10000)"
      ],
      "execution_count": 5,
      "outputs": [
        {
          "output_type": "stream",
          "text": [
            "Downloading data from https://storage.googleapis.com/tensorflow/tf-keras-datasets/reuters.npz\n",
            "2113536/2110848 [==============================] - 0s 0us/step\n"
          ],
          "name": "stdout"
        },
        {
          "output_type": "stream",
          "text": [
            "/usr/local/lib/python3.7/dist-packages/tensorflow/python/keras/datasets/reuters.py:148: VisibleDeprecationWarning: Creating an ndarray from ragged nested sequences (which is a list-or-tuple of lists-or-tuples-or ndarrays with different lengths or shapes) is deprecated. If you meant to do this, you must specify 'dtype=object' when creating the ndarray\n",
            "  x_train, y_train = np.array(xs[:idx]), np.array(labels[:idx])\n",
            "/usr/local/lib/python3.7/dist-packages/tensorflow/python/keras/datasets/reuters.py:149: VisibleDeprecationWarning: Creating an ndarray from ragged nested sequences (which is a list-or-tuple of lists-or-tuples-or ndarrays with different lengths or shapes) is deprecated. If you meant to do this, you must specify 'dtype=object' when creating the ndarray\n",
            "  x_test, y_test = np.array(xs[idx:]), np.array(labels[idx:])\n"
          ],
          "name": "stderr"
        }
      ]
    },
    {
      "cell_type": "code",
      "metadata": {
        "colab": {
          "base_uri": "https://localhost:8080/"
        },
        "id": "ADk51bkEk7R2",
        "outputId": "9604f6c3-907e-4df9-fba9-6d01193dc9d6"
      },
      "source": [
        "print(\"Training Data : \",len(train_data))\n",
        "print( \"Testing Data : \", len(test_data))\n"
      ],
      "execution_count": 6,
      "outputs": [
        {
          "output_type": "stream",
          "text": [
            "Training Data :  8982\n",
            "Testing Data :  2246\n"
          ],
          "name": "stdout"
        }
      ]
    },
    {
      "cell_type": "markdown",
      "metadata": {
        "id": "yeZarPIGljX_"
      },
      "source": [
        "Decoding data back to English words"
      ]
    },
    {
      "cell_type": "code",
      "metadata": {
        "colab": {
          "base_uri": "https://localhost:8080/"
        },
        "id": "bRACumDHlFyS",
        "outputId": "873b2656-e5da-4ba3-b12a-792fb0df6cfc"
      },
      "source": [
        "word_index = reuters.get_word_index()\n",
        "reversed_word_index = dict([(value, key) for (key, value) in word_index.items()])\n",
        "decoded_newswire = ' '.join([reversed_word_index.get(i-3,'?') for i in train_data[0]])"
      ],
      "execution_count": 7,
      "outputs": [
        {
          "output_type": "stream",
          "text": [
            "Downloading data from https://storage.googleapis.com/tensorflow/tf-keras-datasets/reuters_word_index.json\n",
            "557056/550378 [==============================] - 0s 0us/step\n"
          ],
          "name": "stdout"
        }
      ]
    },
    {
      "cell_type": "code",
      "metadata": {
        "colab": {
          "base_uri": "https://localhost:8080/"
        },
        "id": "2rhaEOB6mPnY",
        "outputId": "1efa6924-0e80-4732-bfa2-2d5620487f62"
      },
      "source": [
        "train_labels[19]"
      ],
      "execution_count": 8,
      "outputs": [
        {
          "output_type": "execute_result",
          "data": {
            "text/plain": [
              "21"
            ]
          },
          "metadata": {
            "tags": []
          },
          "execution_count": 8
        }
      ]
    },
    {
      "cell_type": "markdown",
      "metadata": {
        "id": "qgcTR6l6mX3D"
      },
      "source": [
        "Vectorizing the Training data"
      ]
    },
    {
      "cell_type": "code",
      "metadata": {
        "id": "Fve1m1VKmVLf"
      },
      "source": [
        "def vectorize_sequences(sequences, dimension = 10000):\n",
        "  results = np.zeros((len(sequences), dimension))\n",
        "  for i, sequence in enumerate(sequences):\n",
        "    results[i, sequence] = 1.\n",
        "  return results\n",
        "\n",
        "x_train = vectorize_sequences(train_data)\n",
        "x_test = vectorize_sequences(test_data)"
      ],
      "execution_count": 9,
      "outputs": []
    },
    {
      "cell_type": "markdown",
      "metadata": {
        "id": "khr3i-gKtM0c"
      },
      "source": [
        "Vectorizing the Labels"
      ]
    },
    {
      "cell_type": "code",
      "metadata": {
        "id": "cOsKKV4tnBPZ"
      },
      "source": [
        "one_hot_train_labels = to_categorical(train_labels)\n",
        "one_hot_test_labels = to_categorical(test_labels)"
      ],
      "execution_count": 10,
      "outputs": []
    },
    {
      "cell_type": "code",
      "metadata": {
        "id": "SLQvC6UqtPbJ"
      },
      "source": [
        "# Designing our network \n",
        "model = models.Sequential()\n",
        "model.add(layers.Dense(64, activation='relu', input_shape=(10000,)))\n",
        "model.add(layers.Dense(64, activation='relu'))\n",
        "model.add(layers.Dense(46, activation='softmax'))"
      ],
      "execution_count": null,
      "outputs": []
    },
    {
      "cell_type": "code",
      "metadata": {
        "id": "OkGDCeMxtxLA"
      },
      "source": [
        "# Compiling the model \n",
        "model.compile(optimizer='rmsprop', loss='categorical_crossentropy', metrics=['accuracy'])"
      ],
      "execution_count": null,
      "outputs": []
    },
    {
      "cell_type": "code",
      "metadata": {
        "id": "czJJmBWEufs7"
      },
      "source": [
        "# Separating data for Validation\n",
        "x_val = x_train[:1000]\n",
        "partial_x_train = x_train[1000:]\n",
        "\n",
        "y_val = one_hot_train_labels[:1000]\n",
        "partial_y_train = one_hot_train_labels[1000:]\n"
      ],
      "execution_count": 12,
      "outputs": []
    },
    {
      "cell_type": "code",
      "metadata": {
        "colab": {
          "base_uri": "https://localhost:8080/"
        },
        "id": "cEj394DeuWZj",
        "outputId": "729b7bc4-c140-4bd3-c2d3-37ecab426da9"
      },
      "source": [
        "# Training our network\n",
        "history = model.fit(partial_x_train, partial_y_train, epochs=20, batch_size=512, validation_data=(x_val, y_val))"
      ],
      "execution_count": null,
      "outputs": [
        {
          "output_type": "stream",
          "text": [
            "Epoch 1/20\n",
            "16/16 [==============================] - 2s 57ms/step - loss: 3.0821 - accuracy: 0.4068 - val_loss: 1.6841 - val_accuracy: 0.6140\n",
            "Epoch 2/20\n",
            "16/16 [==============================] - 1s 40ms/step - loss: 1.4820 - accuracy: 0.6804 - val_loss: 1.2716 - val_accuracy: 0.7270\n",
            "Epoch 3/20\n",
            "16/16 [==============================] - 1s 40ms/step - loss: 1.0649 - accuracy: 0.7779 - val_loss: 1.1175 - val_accuracy: 0.7590\n",
            "Epoch 4/20\n",
            "16/16 [==============================] - 1s 41ms/step - loss: 0.8429 - accuracy: 0.8190 - val_loss: 1.0457 - val_accuracy: 0.7670\n",
            "Epoch 5/20\n",
            "16/16 [==============================] - 1s 40ms/step - loss: 0.6753 - accuracy: 0.8559 - val_loss: 0.9677 - val_accuracy: 0.8040\n",
            "Epoch 6/20\n",
            "16/16 [==============================] - 1s 39ms/step - loss: 0.5293 - accuracy: 0.8939 - val_loss: 0.9277 - val_accuracy: 0.8120\n",
            "Epoch 7/20\n",
            "16/16 [==============================] - 1s 40ms/step - loss: 0.4313 - accuracy: 0.9105 - val_loss: 0.9014 - val_accuracy: 0.8150\n",
            "Epoch 8/20\n",
            "16/16 [==============================] - 1s 40ms/step - loss: 0.3545 - accuracy: 0.9257 - val_loss: 0.9160 - val_accuracy: 0.8040\n",
            "Epoch 9/20\n",
            "16/16 [==============================] - 1s 40ms/step - loss: 0.2751 - accuracy: 0.9421 - val_loss: 0.9380 - val_accuracy: 0.8110\n",
            "Epoch 10/20\n",
            "16/16 [==============================] - 1s 40ms/step - loss: 0.2341 - accuracy: 0.9489 - val_loss: 0.9091 - val_accuracy: 0.8160\n",
            "Epoch 11/20\n",
            "16/16 [==============================] - 1s 40ms/step - loss: 0.1980 - accuracy: 0.9513 - val_loss: 0.9311 - val_accuracy: 0.8210\n",
            "Epoch 12/20\n",
            "16/16 [==============================] - 1s 42ms/step - loss: 0.1766 - accuracy: 0.9552 - val_loss: 0.9356 - val_accuracy: 0.8090\n",
            "Epoch 13/20\n",
            "16/16 [==============================] - 1s 40ms/step - loss: 0.1545 - accuracy: 0.9598 - val_loss: 0.9550 - val_accuracy: 0.8110\n",
            "Epoch 14/20\n",
            "16/16 [==============================] - 1s 40ms/step - loss: 0.1525 - accuracy: 0.9590 - val_loss: 0.9856 - val_accuracy: 0.8010\n",
            "Epoch 15/20\n",
            "16/16 [==============================] - 1s 40ms/step - loss: 0.1295 - accuracy: 0.9605 - val_loss: 1.0298 - val_accuracy: 0.8030\n",
            "Epoch 16/20\n",
            "16/16 [==============================] - 1s 40ms/step - loss: 0.1149 - accuracy: 0.9660 - val_loss: 1.0207 - val_accuracy: 0.8050\n",
            "Epoch 17/20\n",
            "16/16 [==============================] - 1s 40ms/step - loss: 0.1158 - accuracy: 0.9627 - val_loss: 1.0394 - val_accuracy: 0.8050\n",
            "Epoch 18/20\n",
            "16/16 [==============================] - 1s 40ms/step - loss: 0.1068 - accuracy: 0.9603 - val_loss: 1.0345 - val_accuracy: 0.8080\n",
            "Epoch 19/20\n",
            "16/16 [==============================] - 1s 41ms/step - loss: 0.0979 - accuracy: 0.9647 - val_loss: 1.0904 - val_accuracy: 0.8080\n",
            "Epoch 20/20\n",
            "16/16 [==============================] - 1s 39ms/step - loss: 0.1070 - accuracy: 0.9630 - val_loss: 1.1545 - val_accuracy: 0.7950\n"
          ],
          "name": "stdout"
        }
      ]
    },
    {
      "cell_type": "markdown",
      "metadata": {
        "id": "bkwgTQWvvJ7z"
      },
      "source": [
        "Plotting the training and validation loss"
      ]
    },
    {
      "cell_type": "code",
      "metadata": {
        "colab": {
          "base_uri": "https://localhost:8080/",
          "height": 295
        },
        "id": "jMWduPWJu6AJ",
        "outputId": "bffdb3a9-a71b-4326-d7a4-8666519b3253"
      },
      "source": [
        "import matplotlib.pyplot as plt\n",
        "loss = history.history['loss']\n",
        "val_loss = history.history['val_loss']\n",
        "epochs = range(1, len(loss) + 1)\n",
        "plt.plot(epochs, loss, 'bo', label='Training loss')\n",
        "plt.plot(epochs, val_loss, 'b', label='Validation loss')\n",
        "plt.title('Training and validation loss')\n",
        "plt.xlabel('Epochs')\n",
        "plt.ylabel('Loss')\n",
        "plt.legend()\n",
        "plt.show()"
      ],
      "execution_count": null,
      "outputs": [
        {
          "output_type": "display_data",
          "data": {
            "image/png": "[encoded data removed]",
            "text/plain": [
              "<Figure size 432x288 with 1 Axes>"
            ]
          },
          "metadata": {
            "tags": [],
            "needs_background": "light"
          }
        }
      ]
    },
    {
      "cell_type": "markdown",
      "metadata": {
        "id": "sGZIIRLPvNqC"
      },
      "source": [
        "Plotting the training and validation accuracy"
      ]
    },
    {
      "cell_type": "code",
      "metadata": {
        "colab": {
          "base_uri": "https://localhost:8080/",
          "height": 295
        },
        "id": "v7hiyW-KvGvr",
        "outputId": "3249542f-f3ae-454c-de56-8635aeda6cf3"
      },
      "source": [
        "plt.clf()\n",
        "acc = history.history['accuracy']\n",
        "val_acc = history.history['val_accuracy']\n",
        "plt.plot(epochs, acc, 'bo', label='Training acc')\n",
        "plt.plot(epochs, val_acc, 'b', label='Validation acc')\n",
        "plt.title('Training and validation accuracy')\n",
        "plt.xlabel('Epochs')\n",
        "plt.ylabel('Loss')\n",
        "plt.legend()\n",
        "plt.show()"
      ],
      "execution_count": null,
      "outputs": [
        {
          "output_type": "display_data",
          "data": {
            "image/png": "[encoded data removed]",
            "text/plain": [
              "<Figure size 432x288 with 1 Axes>"
            ]
          },
          "metadata": {
            "tags": [],
            "needs_background": "light"
          }
        }
      ]
    },
    {
      "cell_type": "markdown",
      "metadata": {
        "id": "_aUSFld7va3O"
      },
      "source": [
        "The network begins to overfit after nine epochs. Let’s train a new network from\n",
        "scratch for nine epochs and then evaluate it on the test set."
      ]
    },
    {
      "cell_type": "code",
      "metadata": {
        "colab": {
          "base_uri": "https://localhost:8080/"
        },
        "id": "3O4E9DcMvPmQ",
        "outputId": "9d482b26-f0bc-4a4a-f70c-3f9f13e2332f"
      },
      "source": [
        "model = models.Sequential()\n",
        "model.add(layers.Dense(64, activation='relu', input_shape=(10000,)))\n",
        "model.add(layers.Dense(64, activation='relu'))\n",
        "model.add(layers.Dense(46, activation='softmax'))\n",
        "model.compile(optimizer='rmsprop',\n",
        "loss='categorical_crossentropy',\n",
        "metrics=['accuracy'])\n",
        "model.fit(partial_x_train,\n",
        "partial_y_train,\n",
        "epochs=9,\n",
        "batch_size=512,\n",
        "validation_data=(x_val, y_val))\n",
        "results = model.evaluate(x_test, one_hot_test_labels)"
      ],
      "execution_count": null,
      "outputs": [
        {
          "output_type": "stream",
          "text": [
            "Epoch 1/9\n",
            "16/16 [==============================] - 1s 50ms/step - loss: 3.0711 - accuracy: 0.4274 - val_loss: 1.7200 - val_accuracy: 0.6370\n",
            "Epoch 2/9\n",
            "16/16 [==============================] - 1s 41ms/step - loss: 1.4693 - accuracy: 0.6938 - val_loss: 1.3193 - val_accuracy: 0.7210\n",
            "Epoch 3/9\n",
            "16/16 [==============================] - 1s 40ms/step - loss: 1.0723 - accuracy: 0.7734 - val_loss: 1.1526 - val_accuracy: 0.7520\n",
            "Epoch 4/9\n",
            "16/16 [==============================] - 1s 39ms/step - loss: 0.8426 - accuracy: 0.8245 - val_loss: 1.0421 - val_accuracy: 0.7900\n",
            "Epoch 5/9\n",
            "16/16 [==============================] - 1s 40ms/step - loss: 0.6627 - accuracy: 0.8616 - val_loss: 0.9773 - val_accuracy: 0.8020\n",
            "Epoch 6/9\n",
            "16/16 [==============================] - 1s 41ms/step - loss: 0.5263 - accuracy: 0.8937 - val_loss: 0.9353 - val_accuracy: 0.8180\n",
            "Epoch 7/9\n",
            "16/16 [==============================] - 1s 40ms/step - loss: 0.4329 - accuracy: 0.9112 - val_loss: 0.9277 - val_accuracy: 0.8070\n",
            "Epoch 8/9\n",
            "16/16 [==============================] - 1s 40ms/step - loss: 0.3420 - accuracy: 0.9285 - val_loss: 0.9200 - val_accuracy: 0.8090\n",
            "Epoch 9/9\n",
            "16/16 [==============================] - 1s 38ms/step - loss: 0.2884 - accuracy: 0.9395 - val_loss: 0.9469 - val_accuracy: 0.7990\n",
            "71/71 [==============================] - 0s 3ms/step - loss: 1.0208 - accuracy: 0.7725\n"
          ],
          "name": "stdout"
        }
      ]
    },
    {
      "cell_type": "markdown",
      "metadata": {
        "id": "db3ZoT4NC9tY"
      },
      "source": [
        " Playing with the hidden layers"
      ]
    },
    {
      "cell_type": "code",
      "metadata": {
        "id": "xBmEr_jgvdsY",
        "outputId": "5053a3f1-74c3-4e3e-e8aa-fbb6bbc8fefb",
        "colab": {
          "base_uri": "https://localhost:8080/"
        }
      },
      "source": [
        "model = models.Sequential()\n",
        "model.add(layers.Dense(128, activation='relu', input_shape=(10000,)))\n",
        "model.add(layers.Dense(128, activation='relu'))\n",
        "model.add(layers.Dense(128, activation='relu'))\n",
        "model.add(layers.Dense(46, activation='softmax'))\n",
        "model.compile(optimizer='rmsprop',\n",
        "loss='categorical_crossentropy',\n",
        "metrics=['accuracy'])\n",
        "model.fit(partial_x_train,\n",
        "partial_y_train,\n",
        "epochs=9,\n",
        "batch_size=512,\n",
        "validation_data=(x_val, y_val))\n",
        "results = model.evaluate(x_test, one_hot_test_labels)"
      ],
      "execution_count": 19,
      "outputs": [
        {
          "output_type": "stream",
          "text": [
            "Epoch 1/9\n",
            "16/16 [==============================] - 3s 116ms/step - loss: 2.7897 - accuracy: 0.3731 - val_loss: 1.4117 - val_accuracy: 0.6960\n",
            "Epoch 2/9\n",
            "16/16 [==============================] - 2s 106ms/step - loss: 1.2396 - accuracy: 0.7166 - val_loss: 1.1330 - val_accuracy: 0.7400\n",
            "Epoch 3/9\n",
            "16/16 [==============================] - 2s 101ms/step - loss: 0.8636 - accuracy: 0.8037 - val_loss: 1.0195 - val_accuracy: 0.7800\n",
            "Epoch 4/9\n",
            "16/16 [==============================] - 2s 113ms/step - loss: 0.5991 - accuracy: 0.8677 - val_loss: 1.1781 - val_accuracy: 0.7390\n",
            "Epoch 5/9\n",
            "16/16 [==============================] - 2s 110ms/step - loss: 0.5061 - accuracy: 0.8853 - val_loss: 1.0225 - val_accuracy: 0.7840\n",
            "Epoch 6/9\n",
            "16/16 [==============================] - 2s 112ms/step - loss: 0.3313 - accuracy: 0.9282 - val_loss: 0.9561 - val_accuracy: 0.8230\n",
            "Epoch 7/9\n",
            "16/16 [==============================] - 2s 120ms/step - loss: 0.2369 - accuracy: 0.9437 - val_loss: 1.0429 - val_accuracy: 0.7930\n",
            "Epoch 8/9\n",
            "16/16 [==============================] - 2s 105ms/step - loss: 0.2001 - accuracy: 0.9513 - val_loss: 1.0219 - val_accuracy: 0.8090\n",
            "Epoch 9/9\n",
            "16/16 [==============================] - 1s 81ms/step - loss: 0.1687 - accuracy: 0.9563 - val_loss: 1.0161 - val_accuracy: 0.8100\n",
            "71/71 [==============================] - 0s 4ms/step - loss: 1.1682 - accuracy: 0.7809\n"
          ],
          "name": "stdout"
        }
      ]
    }
  ]
}