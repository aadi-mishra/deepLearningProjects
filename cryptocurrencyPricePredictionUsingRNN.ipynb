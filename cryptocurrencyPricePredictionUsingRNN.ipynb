{
  "nbformat": 4,
  "nbformat_minor": 0,
  "metadata": {
    "colab": {
      "name": "cryptocurrencyPricePredictionUsingRNN.ipynb",
      "provenance": [],
      "collapsed_sections": [],
      "authorship_tag": "ABX9TyPrSoyqQo932svtHiyApTS2",
      "include_colab_link": true
    },
    "kernelspec": {
      "name": "python3",
      "display_name": "Python 3"
    },
    "language_info": {
      "name": "python"
    }
  },
  "cells": [
    {
      "cell_type": "markdown",
      "metadata": {
        "id": "view-in-github",
        "colab_type": "text"
      },
      "source": [
        "<a href=\"https://colab.research.google.com/github/aadi-mishra/deepLearningProjects/blob/main/cryptocurrencyPricePredictionUsingRNN.ipynb\" target=\"_parent\"><img src=\"https://colab.research.google.com/assets/colab-badge.svg\" alt=\"Open In Colab\"/></a>"
      ]
    },
    {
      "cell_type": "markdown",
      "metadata": {
        "id": "F9GemlirIqni"
      },
      "source": [
        "The dataset contains time series data of Bitcoin cash, bitcoin, etherium and litecoin provided by Harrison from his [website](https://pythonprogramming.net/). This is a code along from his tutorial."
      ]
    },
    {
      "cell_type": "code",
      "metadata": {
        "colab": {
          "base_uri": "https://localhost:8080/"
        },
        "id": "SGaUy3fc3YbZ",
        "outputId": "642fde80-1168-44a8-f7ec-566f393ecd26"
      },
      "source": [
        "!git clone https://github.com/aadi-mishra/deepLearningProjects.git"
      ],
      "execution_count": 28,
      "outputs": [
        {
          "output_type": "stream",
          "text": [
            "Cloning into 'deepLearningProjects'...\n",
            "remote: Enumerating objects: 54, done.\u001b[K\n",
            "remote: Counting objects: 100% (54/54), done.\u001b[K\n",
            "remote: Compressing objects: 100% (52/52), done.\u001b[K\n",
            "remote: Total 54 (delta 22), reused 11 (delta 1), pack-reused 0\u001b[K\n",
            "Unpacking objects: 100% (54/54), done.\n"
          ],
          "name": "stdout"
        }
      ]
    },
    {
      "cell_type": "code",
      "metadata": {
        "colab": {
          "base_uri": "https://localhost:8080/"
        },
        "id": "cA2t-Ne4IU8J",
        "outputId": "b3ccf22b-c75e-4b14-e3f6-a7cc88daf768"
      },
      "source": [
        "%cd deepLearningProjects/data/crypto_data/"
      ],
      "execution_count": 29,
      "outputs": [
        {
          "output_type": "stream",
          "text": [
            "/content/deepLearningProjects/data/crypto_data/deepLearningProjects/data/crypto_data\n"
          ],
          "name": "stdout"
        }
      ]
    },
    {
      "cell_type": "code",
      "metadata": {
        "id": "NDa9XlsD29zp"
      },
      "source": [
        "import time\n",
        "import pandas as pd\n",
        "import tensorflow as tf\n",
        "import numpy as np\n",
        "import random\n",
        "from sklearn import preprocessing\n",
        "from collections import deque\n",
        "from tensorflow.keras.models import Sequential\n",
        "from tensorflow.keras.layers import Dense, Dropout, LSTM, BatchNormalization\n",
        "from tensorflow.keras.callbacks import TensorBoard, ModelCheckpoint"
      ],
      "execution_count": 127,
      "outputs": []
    },
    {
      "cell_type": "markdown",
      "metadata": {
        "id": "ZjB-1MAWUe6s"
      },
      "source": [
        "### Some data wrangling"
      ]
    },
    {
      "cell_type": "code",
      "metadata": {
        "colab": {
          "base_uri": "https://localhost:8080/"
        },
        "id": "_j_F1TZnIDrH",
        "outputId": "6f4122af-a0ce-4f1a-d5ef-7f75034555cb"
      },
      "source": [
        "# df = pd.read_csv('LTC-USD.csv', names=[\"time\", \"low\", \"high\", \"open\", \"close\", \"volume\"])\n",
        "# print(df.head(10))\n",
        "\n",
        "\n",
        "def classify(current, future):\n",
        "  if float(future) > float(current):\n",
        "    return 1  # buy\n",
        "  else:\n",
        "    return 0  # don't buy \n",
        "\n",
        "main_df = pd.DataFrame()\n",
        "ratios = [\"BTC-USD\", \"LTC-USD\", \"ETH-USD\", \"BCH-USD\"]\n",
        "\n",
        "# Merging dataframe[\"close\", \"vo lume\"] columns for each currency with reference to time \n",
        "for ratio in ratios:\n",
        "  dataset = f\"{ratio}.csv\"\n",
        "  df = pd.read_csv(dataset, names=[\"time\", \"low\", \"high\", \"open\", \"close\", \"volume\"])\n",
        "  \n",
        "\n",
        "  df.rename(columns={\"close\":f\"{ratio}_close\", \"volume\":f\"{ratio}_volume\"}, inplace=True)\n",
        "  df.set_index(\"time\", inplace=True)\n",
        "  df = df[[f\"{ratio}_close\", f\"{ratio}_volume\"]]\n",
        "  print(df.head(10))\n",
        "  \n",
        "  if len(main_df) == 0:\n",
        "    main_df = df\n",
        "  else:\n",
        "    main_df = main_df.join(df)\n",
        "\n",
        "#print(main_df.head(10))\n",
        "\n",
        "for c in main_df.columns:\n",
        "  print(c)\n",
        "\n",
        "print(main_df.head(10))\n",
        "\n",
        "\n"
      ],
      "execution_count": 94,
      "outputs": [
        {
          "output_type": "stream",
          "text": [
            "            BTC-USD_close  BTC-USD_volume\n",
            "time                                     \n",
            "1528968660    6489.549805        0.587100\n",
            "1528968720    6487.379883        7.706374\n",
            "1528968780    6479.410156        3.088252\n",
            "1528968840    6479.410156        1.404100\n",
            "1528968900    6479.979980        0.753000\n",
            "1528968960    6480.000000        1.490900\n",
            "1528969020    6477.220215        2.731950\n",
            "1528969080    6480.000000        2.174240\n",
            "1528969140    6479.990234        0.903100\n",
            "1528969200    6478.660156        3.258786\n",
            "            LTC-USD_close  LTC-USD_volume\n",
            "time                                     \n",
            "1528968660      96.580002        9.647200\n",
            "1528968720      96.660004      314.387024\n",
            "1528968780      96.570000       77.129799\n",
            "1528968840      96.500000        7.216067\n",
            "1528968900      96.389999      524.539978\n",
            "1528968960      96.519997       16.991997\n",
            "1528969020      96.440002       95.524078\n",
            "1528969080      96.470001      175.205307\n",
            "1528969140      96.400002       43.652802\n",
            "1528969200      96.400002        8.160000\n",
            "            ETH-USD_close  ETH-USD_volume\n",
            "time                                     \n",
            "1528968720      486.01001       26.019083\n",
            "1528968780      486.00000        8.449400\n",
            "1528968840      485.75000       26.994646\n",
            "1528968900      486.00000       77.355759\n",
            "1528968960      486.00000        7.503300\n",
            "1528969020      485.98999       85.877251\n",
            "1528969080      485.98999      160.915192\n",
            "1528969140      485.98999       61.371887\n",
            "1528969200      485.98999       42.687656\n",
            "1528969260      486.00000       97.693878\n",
            "            BCH-USD_close  BCH-USD_volume\n",
            "time                                     \n",
            "1528968660     871.719971        5.675361\n",
            "1528968720     870.859985       26.856577\n",
            "1528968780     870.099976        1.124300\n",
            "1528968840     870.789978        1.749862\n",
            "1528968900     870.000000        1.680500\n",
            "1528968960     869.989990        1.669014\n",
            "1528969020     869.450012        0.865200\n",
            "1528969080     869.989990       23.534929\n",
            "1528969140     870.000000        2.300000\n",
            "1528969200     870.320007        9.255514\n",
            "BTC-USD_close\n",
            "BTC-USD_volume\n",
            "LTC-USD_close\n",
            "LTC-USD_volume\n",
            "ETH-USD_close\n",
            "ETH-USD_volume\n",
            "BCH-USD_close\n",
            "BCH-USD_volume\n",
            "            BTC-USD_close  BTC-USD_volume  ...  BCH-USD_close  BCH-USD_volume\n",
            "time                                       ...                               \n",
            "1528968660    6489.549805        0.587100  ...     871.719971        5.675361\n",
            "1528968720    6487.379883        7.706374  ...     870.859985       26.856577\n",
            "1528968780    6479.410156        3.088252  ...     870.099976        1.124300\n",
            "1528968840    6479.410156        1.404100  ...     870.789978        1.749862\n",
            "1528968900    6479.979980        0.753000  ...     870.000000        1.680500\n",
            "1528968960    6480.000000        1.490900  ...     869.989990        1.669014\n",
            "1528969020    6477.220215        2.731950  ...     869.450012        0.865200\n",
            "1528969080    6480.000000        2.174240  ...     869.989990       23.534929\n",
            "1528969140    6479.990234        0.903100  ...     870.000000        2.300000\n",
            "1528969200    6478.660156        3.258786  ...     870.320007        9.255514\n",
            "\n",
            "[10 rows x 8 columns]\n"
          ],
          "name": "stdout"
        }
      ]
    },
    {
      "cell_type": "markdown",
      "metadata": {
        "id": "OPWoPTsDUmWp"
      },
      "source": [
        "### Now we have sequential data, but we also need targets"
      ]
    },
    {
      "cell_type": "code",
      "metadata": {
        "colab": {
          "base_uri": "https://localhost:8080/"
        },
        "id": "1uUM16ITJ-T5",
        "outputId": "811dd6dd-c19a-4c2f-cb1d-3883bdc1d847"
      },
      "source": [
        "SEQ_LEN = 60 # minutes of pricing data to predict ahead\n",
        "FUTURE_PERIOD_PREDICT = 3 #minutes\n",
        "RATIO_TO_PREDICT = \"LTC-USD\"  # Let's just do this one for now\n",
        "\n",
        "main_df['future'] = main_df[f\"{RATIO_TO_PREDICT}_close\"].shift(-FUTURE_PERIOD_PREDICT) # We shift the rows n steps up so the future column corresponds to n steps ahead price wrt current \n",
        "\n",
        "print(main_df.head())"
      ],
      "execution_count": 109,
      "outputs": [
        {
          "output_type": "stream",
          "text": [
            "            BTC-USD_close  BTC-USD_volume  ...     future  target\n",
            "time                                       ...                   \n",
            "1528968660    6489.549805        0.587100  ...  96.500000       0\n",
            "1528968720    6487.379883        7.706374  ...  96.389999       0\n",
            "1528968780    6479.410156        3.088252  ...  96.519997       0\n",
            "1528968840    6479.410156        1.404100  ...  96.440002       0\n",
            "1528968900    6479.979980        0.753000  ...  96.470001       1\n",
            "\n",
            "[5 rows x 10 columns]\n"
          ],
          "name": "stdout"
        }
      ]
    },
    {
      "cell_type": "code",
      "metadata": {
        "colab": {
          "base_uri": "https://localhost:8080/"
        },
        "id": "Qk6O-jVtrY0F",
        "outputId": "91bfad22-48a1-456d-9885-39c5d5a41957"
      },
      "source": [
        "print(main_df[[f\"{RATIO_TO_PREDICT}_close\", \"future\"]].head())"
      ],
      "execution_count": 110,
      "outputs": [
        {
          "output_type": "stream",
          "text": [
            "            LTC-USD_close     future\n",
            "time                                \n",
            "1528968660      96.580002  96.500000\n",
            "1528968720      96.660004  96.389999\n",
            "1528968780      96.570000  96.519997\n",
            "1528968840      96.500000  96.440002\n",
            "1528968900      96.389999  96.470001\n"
          ],
          "name": "stdout"
        }
      ]
    },
    {
      "cell_type": "code",
      "metadata": {
        "colab": {
          "base_uri": "https://localhost:8080/"
        },
        "id": "zQ4-3xTSrld0",
        "outputId": "6c415ba6-e0ce-4aea-b795-8813c67a346e"
      },
      "source": [
        "main_df['target'] = list(map(classify,main_df[f\"{RATIO_TO_PREDICT}_close\"], main_df[\"future\"] ))\n",
        "print(main_df[[f\"{RATIO_TO_PREDICT}_close\", \"future\", \"target\"]].head(10))"
      ],
      "execution_count": 111,
      "outputs": [
        {
          "output_type": "stream",
          "text": [
            "            LTC-USD_close     future  target\n",
            "time                                        \n",
            "1528968660      96.580002  96.500000       0\n",
            "1528968720      96.660004  96.389999       0\n",
            "1528968780      96.570000  96.519997       0\n",
            "1528968840      96.500000  96.440002       0\n",
            "1528968900      96.389999  96.470001       1\n",
            "1528968960      96.519997  96.400002       0\n",
            "1528969020      96.440002  96.400002       0\n",
            "1528969080      96.470001  96.400002       0\n",
            "1528969140      96.400002  96.400002       0\n",
            "1528969200      96.400002  96.400002       0\n"
          ],
          "name": "stdout"
        }
      ]
    },
    {
      "cell_type": "markdown",
      "metadata": {
        "id": "ixkJi79QsupI"
      },
      "source": [
        "### Preprocessing our data, since different currencies have differenr attributes.\n",
        "* Normalize - scaling\n",
        "* Balancing - Having equal no. of Buys and Sells in our dataset"
      ]
    },
    {
      "cell_type": "markdown",
      "metadata": {
        "id": "kmbfqXQgtaNv"
      },
      "source": [
        "#### Let's separate data for testing first, We cannot randomly shuffle and select data, rather we will select a chunk of time series data, preferably in the future for this use case."
      ]
    },
    {
      "cell_type": "code",
      "metadata": {
        "colab": {
          "base_uri": "https://localhost:8080/",
          "height": 235
        },
        "id": "KCW8pxoMt6ZF",
        "outputId": "ae293aba-bfd3-428d-a034-69c286698dbf"
      },
      "source": [
        "times = sorted(main_df.index.values)  # get the times\n",
        "last_5pct = sorted(main_df.index.values)[-int(0.05*len(times))]  # get the last 5% of the times\n",
        "validation_main_df = main_df[(main_df.index >= last_5pct)]  # make the validation data where the index is in the last 5%\n",
        "main_df = main_df[(main_df.index < last_5pct)]  # now the main_df is all the data up to the last 5%\n",
        "validation_main_df.head()\n"
      ],
      "execution_count": 117,
      "outputs": [
        {
          "output_type": "execute_result",
          "data": {
            "text/html": [
              "<div>\n",
              "<style scoped>\n",
              "    .dataframe tbody tr th:only-of-type {\n",
              "        vertical-align: middle;\n",
              "    }\n",
              "\n",
              "    .dataframe tbody tr th {\n",
              "        vertical-align: top;\n",
              "    }\n",
              "\n",
              "    .dataframe thead th {\n",
              "        text-align: right;\n",
              "    }\n",
              "</style>\n",
              "<table border=\"1\" class=\"dataframe\">\n",
              "  <thead>\n",
              "    <tr style=\"text-align: right;\">\n",
              "      <th></th>\n",
              "      <th>BTC-USD_close</th>\n",
              "      <th>BTC-USD_volume</th>\n",
              "      <th>LTC-USD_close</th>\n",
              "      <th>LTC-USD_volume</th>\n",
              "      <th>ETH-USD_close</th>\n",
              "      <th>ETH-USD_volume</th>\n",
              "      <th>BCH-USD_close</th>\n",
              "      <th>BCH-USD_volume</th>\n",
              "      <th>future</th>\n",
              "      <th>target</th>\n",
              "    </tr>\n",
              "    <tr>\n",
              "      <th>time</th>\n",
              "      <th></th>\n",
              "      <th></th>\n",
              "      <th></th>\n",
              "      <th></th>\n",
              "      <th></th>\n",
              "      <th></th>\n",
              "      <th></th>\n",
              "      <th></th>\n",
              "      <th></th>\n",
              "      <th></th>\n",
              "    </tr>\n",
              "  </thead>\n",
              "  <tbody>\n",
              "    <tr>\n",
              "      <th>1533340740</th>\n",
              "      <td>7414.080078</td>\n",
              "      <td>1.464528</td>\n",
              "      <td>77.599998</td>\n",
              "      <td>45.183735</td>\n",
              "      <td>417.799988</td>\n",
              "      <td>3.166550</td>\n",
              "      <td>724.989990</td>\n",
              "      <td>1.800660</td>\n",
              "      <td>77.449997</td>\n",
              "      <td>0</td>\n",
              "    </tr>\n",
              "    <tr>\n",
              "      <th>1533340800</th>\n",
              "      <td>7414.080078</td>\n",
              "      <td>3.214882</td>\n",
              "      <td>77.550003</td>\n",
              "      <td>74.558243</td>\n",
              "      <td>417.799988</td>\n",
              "      <td>7.543046</td>\n",
              "      <td>724.989990</td>\n",
              "      <td>3.042931</td>\n",
              "      <td>77.419998</td>\n",
              "      <td>0</td>\n",
              "    </tr>\n",
              "    <tr>\n",
              "      <th>1533340860</th>\n",
              "      <td>7406.830078</td>\n",
              "      <td>5.256898</td>\n",
              "      <td>77.510002</td>\n",
              "      <td>41.614174</td>\n",
              "      <td>417.579987</td>\n",
              "      <td>3.178337</td>\n",
              "      <td>725.000000</td>\n",
              "      <td>8.871104</td>\n",
              "      <td>77.449997</td>\n",
              "      <td>0</td>\n",
              "    </tr>\n",
              "    <tr>\n",
              "      <th>1533340920</th>\n",
              "      <td>7402.950195</td>\n",
              "      <td>1.719980</td>\n",
              "      <td>77.449997</td>\n",
              "      <td>24.486675</td>\n",
              "      <td>417.260010</td>\n",
              "      <td>28.332300</td>\n",
              "      <td>725.000000</td>\n",
              "      <td>3.222020</td>\n",
              "      <td>77.440002</td>\n",
              "      <td>0</td>\n",
              "    </tr>\n",
              "    <tr>\n",
              "      <th>1533340980</th>\n",
              "      <td>7391.209961</td>\n",
              "      <td>5.108865</td>\n",
              "      <td>77.419998</td>\n",
              "      <td>148.440475</td>\n",
              "      <td>416.279999</td>\n",
              "      <td>47.594425</td>\n",
              "      <td>723.539978</td>\n",
              "      <td>5.964457</td>\n",
              "      <td>77.440002</td>\n",
              "      <td>1</td>\n",
              "    </tr>\n",
              "  </tbody>\n",
              "</table>\n",
              "</div>"
            ],
            "text/plain": [
              "            BTC-USD_close  BTC-USD_volume  ...     future  target\n",
              "time                                       ...                   \n",
              "1533340740    7414.080078        1.464528  ...  77.449997       0\n",
              "1533340800    7414.080078        3.214882  ...  77.419998       0\n",
              "1533340860    7406.830078        5.256898  ...  77.449997       0\n",
              "1533340920    7402.950195        1.719980  ...  77.440002       0\n",
              "1533340980    7391.209961        5.108865  ...  77.440002       1\n",
              "\n",
              "[5 rows x 10 columns]"
            ]
          },
          "metadata": {
            "tags": []
          },
          "execution_count": 117
        }
      ]
    },
    {
      "cell_type": "code",
      "metadata": {
        "id": "N4gE8FZauMsP"
      },
      "source": [
        "# function to preprocess the data\n",
        "def preprocess_df(df):\n",
        "  df = df.drop('future', 1) # We don't need future col anymore since we've already obtained target\n",
        "\n",
        "  # Scaling our columns\n",
        "  for col in df.columns:\n",
        "    if col != \"target\":\n",
        "      df[col] = df[col].pct_change() # Normalize the columns bases on percent change\n",
        "      df.dropna(inplace=True)\n",
        "      df[col] = preprocessing.scale(df[col].values)\n",
        "  \n",
        "  df.dropna(inplace=True)\n",
        "\n",
        "  sequential_data = []\n",
        "  prev_days = deque(maxlen = SEQ_LEN)\n",
        "  \n",
        "  for i in df.values:\n",
        "    prev_days.append([n for n in i[:-1]])\n",
        "    if prev_days == SEQ_LEN:\n",
        "      sequential_data.append([np.array(prev_days), i[-1]])\n",
        "  \n",
        "  random.shuffle(sequential_data)\n",
        "\n",
        "  buys = []\n",
        "  sells = []\n",
        "\n",
        "  for seq, target in sequential_data:\n",
        "    if target == 0:\n",
        "      sells.append([seq, target])\n",
        "    elif target == 1:\n",
        "      buys.append([seq, target])\n",
        "  \n",
        "  random.shuffle(buys)\n",
        "  random.shuffle(sells)\n",
        "\n",
        "  lower = min(len(buys), len(sells)) # Which series is shorter\n",
        "\n",
        "  buys = buys[:lower]\n",
        "  sells = sells[:lower]\n",
        "\n",
        "  sequential_data = buys + sells\n",
        "\n",
        "  random.shuffle(sequential_data)\n",
        "\n",
        "  X = []\n",
        "  y = []\n",
        "\n",
        "  for seq, target in sequential_data:\n",
        "    X.append(seq)\n",
        "    y.aapend(target)\n",
        "\n",
        "  return np.array(X), y"
      ],
      "execution_count": 118,
      "outputs": []
    },
    {
      "cell_type": "code",
      "metadata": {
        "id": "lUz4OIc16G98"
      },
      "source": [
        "def preprocess_df(df):\n",
        "    df = df.drop(\"future\", 1)  # don't need this anymore.\n",
        "\n",
        "    for col in df.columns:  # go through all of the columns\n",
        "        if col != \"target\":  # normalize all ... except for the target itself!\n",
        "            df[col] = df[col].pct_change()  # pct change \"normalizes\" the different currencies (each crypto coin has vastly diff values, we're really more interested in the other coin's movements)\n",
        "            df.dropna(inplace=True)  # remove the nas created by pct_change\n",
        "            df[col] = preprocessing.scale(df[col].values)  # scale between 0 and 1.\n",
        "\n",
        "    df.dropna(inplace=True)  # cleanup again... jic.\n",
        "\n",
        "\n",
        "    sequential_data = []  # this is a list that will CONTAIN the sequences\n",
        "    prev_days = deque(maxlen=SEQ_LEN)  # These will be our actual sequences. They are made with deque, which keeps the maximum length by popping out older values as new ones come in\n",
        "\n",
        "    for i in df.values:  # iterate over the values\n",
        "        prev_days.append([n for n in i[:-1]])  # store all but the target\n",
        "        if len(prev_days) == SEQ_LEN:  # make sure we have 60 sequences!\n",
        "            sequential_data.append([np.array(prev_days), i[-1]])  # append those bad boys!\n",
        "\n",
        "    random.shuffle(sequential_data)  # shuffle for good measure.\n",
        "\n",
        "    buys = []  # list that will store our buy sequences and targets\n",
        "    sells = []  # list that will store our sell sequences and targets\n",
        "\n",
        "    for seq, target in sequential_data:  # iterate over the sequential data\n",
        "        if target == 0:  # if it's a \"not buy\"\n",
        "            sells.append([seq, target])  # append to sells list\n",
        "        elif target == 1:  # otherwise if the target is a 1...\n",
        "            buys.append([seq, target])  # it's a buy!\n",
        "\n",
        "    random.shuffle(buys)  # shuffle the buys\n",
        "    random.shuffle(sells)  # shuffle the sells!\n",
        "\n",
        "    lower = min(len(buys), len(sells))  # what's the shorter length?\n",
        "\n",
        "    buys = buys[:lower]  # make sure both lists are only up to the shortest length.\n",
        "    sells = sells[:lower]  # make sure both lists are only up to the shortest length.\n",
        "\n",
        "    sequential_data = buys+sells  # add them together\n",
        "    random.shuffle(sequential_data)  # another shuffle, so the model doesn't get confused with all 1 class then the other.\n",
        "\n",
        "    X = []\n",
        "    y = []\n",
        "\n",
        "    for seq, target in sequential_data:  # going over our new sequential data\n",
        "        X.append(seq)  # X is the sequences\n",
        "        y.append(target)  # y is the targets/labels (buys vs sell/notbuy)\n",
        "\n",
        "    return np.array(X), y  # return X and y...and make X a numpy array!\n"
      ],
      "execution_count": 121,
      "outputs": []
    },
    {
      "cell_type": "code",
      "metadata": {
        "colab": {
          "base_uri": "https://localhost:8080/"
        },
        "id": "BLQ0Asnxwcfy",
        "outputId": "d28d24a5-10f3-4c48-e970-6357ba016957"
      },
      "source": [
        "train_x, train_y = preprocess_df(main_df)\n",
        "val_x, val_y = preprocess_df(validation_main_df)\n",
        "\n",
        "print(f\"train data: {len(train_x)} validation: {len(val_x)}\")\n",
        "print(f\"Dont buys: {train_y.count(0)}, buys: {train_y.count(1)}\")\n",
        "print(f\"VALIDATION Dont buys: {val_y.count(0)}, buys: {val_y.count(1)}\")"
      ],
      "execution_count": 122,
      "outputs": [
        {
          "output_type": "stream",
          "text": [
            "train data: 52972 validation: 2532\n",
            "Dont buys: 26486, buys: 26486\n",
            "VALIDATION Dont buys: 1266, buys: 1266\n"
          ],
          "name": "stdout"
        }
      ]
    },
    {
      "cell_type": "code",
      "metadata": {
        "id": "uvzcVZvz3AEs"
      },
      "source": [
        "EPOCHS = 10\n",
        "BATCH_SIZE = 64\n",
        "NAME = f\"{SEQ_LEN}-SEQ-{FUTURE_PERIOD_PREDICT}-PRED-{int(time.time())}\""
      ],
      "execution_count": 125,
      "outputs": []
    },
    {
      "cell_type": "code",
      "metadata": {
        "id": "l35RaC4O8FU1"
      },
      "source": [
        ""
      ],
      "execution_count": null,
      "outputs": []
    }
  ]
}